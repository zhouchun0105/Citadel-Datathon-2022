{
  "nbformat": 4,
  "nbformat_minor": 0,
  "metadata": {
    "colab": {
      "name": "citadel_datathon.ipynb",
      "provenance": [],
      "collapsed_sections": [],
      "include_colab_link": true
    },
    "kernelspec": {
      "name": "python3",
      "display_name": "Python 3"
    },
    "language_info": {
      "name": "python"
    }
  },
  "cells": [
    {
      "cell_type": "markdown",
      "metadata": {
        "id": "view-in-github",
        "colab_type": "text"
      },
      "source": [
        "<a href=\"https://colab.research.google.com/github/zhouchun0105/Citadel-Datathon-2022/blob/main/citadel_datathon.ipynb\" target=\"_parent\"><img src=\"https://colab.research.google.com/assets/colab-badge.svg\" alt=\"Open In Colab\"/></a>"
      ]
    },
    {
      "cell_type": "markdown",
      "source": [
        "# Import Libraries and Datasets"
      ],
      "metadata": {
        "id": "U5rQ2Inm-qXg"
      }
    },
    {
      "cell_type": "code",
      "execution_count": 1,
      "metadata": {
        "id": "oaWTG05yMgOH",
        "colab": {
          "base_uri": "https://localhost:8080/",
          "height": 1000
        },
        "outputId": "1249aa62-2c0b-4e09-b150-1bf7b5fdd750"
      },
      "outputs": [
        {
          "output_type": "stream",
          "name": "stdout",
          "text": [
            "Collecting autogluon\n",
            "  Downloading autogluon-0.4.0-py3-none-any.whl (9.5 kB)\n",
            "Collecting autogluon.vision==0.4.0\n",
            "  Downloading autogluon.vision-0.4.0-py3-none-any.whl (48 kB)\n",
            "\u001b[K     |████████████████████████████████| 48 kB 540 kB/s \n",
            "\u001b[?25hCollecting autogluon.text==0.4.0\n",
            "  Downloading autogluon.text-0.4.0-py3-none-any.whl (133 kB)\n",
            "\u001b[K     |████████████████████████████████| 133 kB 10.1 MB/s \n",
            "\u001b[?25hCollecting autogluon.core[all]==0.4.0\n",
            "  Downloading autogluon.core-0.4.0-py3-none-any.whl (188 kB)\n",
            "\u001b[K     |████████████████████████████████| 188 kB 45.8 MB/s \n",
            "\u001b[?25hCollecting autogluon.features==0.4.0\n",
            "  Downloading autogluon.features-0.4.0-py3-none-any.whl (59 kB)\n",
            "\u001b[K     |████████████████████████████████| 59 kB 5.5 MB/s \n",
            "\u001b[?25hCollecting autogluon.tabular[all]==0.4.0\n",
            "  Downloading autogluon.tabular-0.4.0-py3-none-any.whl (267 kB)\n",
            "\u001b[K     |████████████████████████████████| 267 kB 44.0 MB/s \n",
            "\u001b[?25hCollecting autogluon.common==0.4.0\n",
            "  Downloading autogluon.common-0.4.0-py3-none-any.whl (37 kB)\n",
            "Requirement already satisfied: numpy<1.23,>=1.21 in /usr/local/lib/python3.7/dist-packages (from autogluon.core[all]==0.4.0->autogluon) (1.21.5)\n",
            "Requirement already satisfied: matplotlib in /usr/local/lib/python3.7/dist-packages (from autogluon.core[all]==0.4.0->autogluon) (3.2.2)\n",
            "Requirement already satisfied: tqdm>=4.38.0 in /usr/local/lib/python3.7/dist-packages (from autogluon.core[all]==0.4.0->autogluon) (4.63.0)\n",
            "Requirement already satisfied: scikit-learn<1.1,>=1.0.0 in /usr/local/lib/python3.7/dist-packages (from autogluon.core[all]==0.4.0->autogluon) (1.0.2)\n",
            "Collecting scipy<1.8.0,>=1.5.4\n",
            "  Downloading scipy-1.7.3-cp37-cp37m-manylinux_2_12_x86_64.manylinux2010_x86_64.whl (38.1 MB)\n",
            "\u001b[K     |████████████████████████████████| 38.1 MB 1.7 MB/s \n",
            "\u001b[?25hCollecting dask<=2021.11.2,>=2021.09.1\n",
            "  Downloading dask-2021.11.2-py3-none-any.whl (1.0 MB)\n",
            "\u001b[K     |████████████████████████████████| 1.0 MB 43.7 MB/s \n",
            "\u001b[?25hRequirement already satisfied: pandas<1.4,>=1.2.5 in /usr/local/lib/python3.7/dist-packages (from autogluon.core[all]==0.4.0->autogluon) (1.3.5)\n",
            "Requirement already satisfied: requests in /usr/local/lib/python3.7/dist-packages (from autogluon.core[all]==0.4.0->autogluon) (2.23.0)\n",
            "Collecting distributed<=2021.11.2,>=2021.09.1\n",
            "  Downloading distributed-2021.11.2-py3-none-any.whl (802 kB)\n",
            "\u001b[K     |████████████████████████████████| 802 kB 40.0 MB/s \n",
            "\u001b[?25hCollecting boto3\n",
            "  Downloading boto3-1.21.37-py3-none-any.whl (132 kB)\n",
            "\u001b[K     |████████████████████████████████| 132 kB 72.6 MB/s \n",
            "\u001b[?25hCollecting ray<1.9,>=1.7\n",
            "  Downloading ray-1.8.0-cp37-cp37m-manylinux2014_x86_64.whl (54.7 MB)\n",
            "\u001b[K     |████████████████████████████████| 54.7 MB 1.2 MB/s \n",
            "\u001b[?25hCollecting psutil<5.9,>=5.7.3\n",
            "  Downloading psutil-5.8.0-cp37-cp37m-manylinux2010_x86_64.whl (296 kB)\n",
            "\u001b[K     |████████████████████████████████| 296 kB 71.1 MB/s \n",
            "\u001b[?25hRequirement already satisfied: networkx<3.0,>=2.3 in /usr/local/lib/python3.7/dist-packages (from autogluon.tabular[all]==0.4.0->autogluon) (2.6.3)\n",
            "Collecting xgboost<1.5,>=1.4\n",
            "  Downloading xgboost-1.4.2-py3-none-manylinux2010_x86_64.whl (166.7 MB)\n",
            "\u001b[K     |████████████████████████████████| 166.7 MB 17 kB/s \n",
            "\u001b[?25hCollecting catboost<1.1,>=1.0\n",
            "  Downloading catboost-1.0.5-cp37-none-manylinux1_x86_64.whl (76.6 MB)\n",
            "\u001b[K     |████████████████████████████████| 76.6 MB 1.2 MB/s \n",
            "\u001b[?25hCollecting lightgbm<3.4,>=3.3\n",
            "  Downloading lightgbm-3.3.2-py3-none-manylinux1_x86_64.whl (2.0 MB)\n",
            "\u001b[K     |████████████████████████████████| 2.0 MB 49.2 MB/s \n",
            "\u001b[?25hRequirement already satisfied: torch<1.11,>=1.0 in /usr/local/lib/python3.7/dist-packages (from autogluon.tabular[all]==0.4.0->autogluon) (1.10.0+cu111)\n",
            "Collecting fastai<2.6,>=2.3.1\n",
            "  Downloading fastai-2.5.6-py3-none-any.whl (188 kB)\n",
            "\u001b[K     |████████████████████████████████| 188 kB 70.5 MB/s \n",
            "\u001b[?25hCollecting timm<0.6.0,>=0.5.4\n",
            "  Downloading timm-0.5.4-py3-none-any.whl (431 kB)\n",
            "\u001b[K     |████████████████████████████████| 431 kB 72.1 MB/s \n",
            "\u001b[?25hCollecting Pillow<9.1.0,>=9.0.0\n",
            "  Downloading Pillow-9.0.1-cp37-cp37m-manylinux_2_17_x86_64.manylinux2014_x86_64.whl (4.3 MB)\n",
            "\u001b[K     |████████████████████████████████| 4.3 MB 34.8 MB/s \n",
            "\u001b[?25hCollecting torchmetrics<0.8.0,>=0.7.2\n",
            "  Downloading torchmetrics-0.7.3-py3-none-any.whl (398 kB)\n",
            "\u001b[K     |████████████████████████████████| 398 kB 69.3 MB/s \n",
            "\u001b[?25hCollecting sentencepiece<0.2.0,>=0.1.95\n",
            "  Downloading sentencepiece-0.1.96-cp37-cp37m-manylinux_2_17_x86_64.manylinux2014_x86_64.whl (1.2 MB)\n",
            "\u001b[K     |████████████████████████████████| 1.2 MB 45.7 MB/s \n",
            "\u001b[?25hCollecting fairscale<0.5.0,>=0.4.5\n",
            "  Downloading fairscale-0.4.6.tar.gz (248 kB)\n",
            "\u001b[K     |████████████████████████████████| 248 kB 58.9 MB/s \n",
            "\u001b[?25h  Installing build dependencies ... \u001b[?25l\u001b[?25hdone\n",
            "  Getting requirements to build wheel ... \u001b[?25l\u001b[?25hdone\n",
            "  Installing backend dependencies ... \u001b[?25l\u001b[?25hdone\n",
            "    Preparing wheel metadata ... \u001b[?25l\u001b[?25hdone\n",
            "Collecting scikit-image<0.20.0,>=0.19.1\n",
            "  Downloading scikit_image-0.19.2-cp37-cp37m-manylinux_2_12_x86_64.manylinux2010_x86_64.whl (13.5 MB)\n",
            "\u001b[K     |████████████████████████████████| 13.5 MB 28.8 MB/s \n",
            "\u001b[?25hRequirement already satisfied: smart-open<5.3.0,>=5.2.1 in /usr/local/lib/python3.7/dist-packages (from autogluon.text==0.4.0->autogluon) (5.2.1)\n",
            "Collecting transformers<4.17.0,>=4.16.2\n",
            "  Downloading transformers-4.16.2-py3-none-any.whl (3.5 MB)\n",
            "\u001b[K     |████████████████████████████████| 3.5 MB 70.6 MB/s \n",
            "\u001b[?25hCollecting pytorch-lightning<1.6.0,>=1.5.10\n",
            "  Downloading pytorch_lightning-1.5.10-py3-none-any.whl (527 kB)\n",
            "\u001b[K     |████████████████████████████████| 527 kB 64.3 MB/s \n",
            "\u001b[?25hCollecting autogluon-contrib-nlp==0.0.1b20220208\n",
            "  Downloading autogluon_contrib_nlp-0.0.1b20220208-py3-none-any.whl (157 kB)\n",
            "\u001b[K     |████████████████████████████████| 157 kB 66.9 MB/s \n",
            "\u001b[?25hCollecting nptyping<1.5.0,>=1.4.4\n",
            "  Downloading nptyping-1.4.4-py3-none-any.whl (31 kB)\n",
            "Collecting omegaconf<2.2.0,>=2.1.1\n",
            "  Downloading omegaconf-2.1.1-py3-none-any.whl (74 kB)\n",
            "\u001b[K     |████████████████████████████████| 74 kB 2.9 MB/s \n",
            "\u001b[?25hCollecting contextvars\n",
            "  Downloading contextvars-2.4.tar.gz (9.6 kB)\n",
            "Requirement already satisfied: regex in /usr/local/lib/python3.7/dist-packages (from autogluon-contrib-nlp==0.0.1b20220208->autogluon.text==0.4.0->autogluon) (2019.12.20)\n",
            "Collecting sacrebleu\n",
            "  Downloading sacrebleu-2.0.0-py3-none-any.whl (90 kB)\n",
            "\u001b[K     |████████████████████████████████| 90 kB 8.8 MB/s \n",
            "\u001b[?25hCollecting sacremoses>=0.0.38\n",
            "  Downloading sacremoses-0.0.49-py3-none-any.whl (895 kB)\n",
            "\u001b[K     |████████████████████████████████| 895 kB 66.5 MB/s \n",
            "\u001b[?25hCollecting yacs>=0.1.6\n",
            "  Downloading yacs-0.1.8-py3-none-any.whl (14 kB)\n",
            "Collecting flake8\n",
            "  Downloading flake8-4.0.1-py2.py3-none-any.whl (64 kB)\n",
            "\u001b[K     |████████████████████████████████| 64 kB 2.4 MB/s \n",
            "\u001b[?25hRequirement already satisfied: protobuf in /usr/local/lib/python3.7/dist-packages (from autogluon-contrib-nlp==0.0.1b20220208->autogluon.text==0.4.0->autogluon) (3.17.3)\n",
            "Requirement already satisfied: pyarrow in /usr/local/lib/python3.7/dist-packages (from autogluon-contrib-nlp==0.0.1b20220208->autogluon.text==0.4.0->autogluon) (6.0.1)\n",
            "Collecting tokenizers>=0.9.4\n",
            "  Downloading tokenizers-0.11.6-cp37-cp37m-manylinux_2_12_x86_64.manylinux2010_x86_64.whl (6.5 MB)\n",
            "\u001b[K     |████████████████████████████████| 6.5 MB 44.1 MB/s \n",
            "\u001b[?25hCollecting sentencepiece<0.2.0,>=0.1.95\n",
            "  Downloading sentencepiece-0.1.95-cp37-cp37m-manylinux2014_x86_64.whl (1.2 MB)\n",
            "\u001b[K     |████████████████████████████████| 1.2 MB 55.4 MB/s \n",
            "\u001b[?25hCollecting gluoncv<0.10.6,>=0.10.5\n",
            "  Downloading gluoncv-0.10.5-py2.py3-none-any.whl (1.3 MB)\n",
            "\u001b[K     |████████████████████████████████| 1.3 MB 48.2 MB/s \n",
            "\u001b[?25hRequirement already satisfied: six in /usr/local/lib/python3.7/dist-packages (from catboost<1.1,>=1.0->autogluon.tabular[all]==0.4.0->autogluon) (1.15.0)\n",
            "Requirement already satisfied: plotly in /usr/local/lib/python3.7/dist-packages (from catboost<1.1,>=1.0->autogluon.tabular[all]==0.4.0->autogluon) (5.5.0)\n",
            "Requirement already satisfied: graphviz in /usr/local/lib/python3.7/dist-packages (from catboost<1.1,>=1.0->autogluon.tabular[all]==0.4.0->autogluon) (0.10.1)\n",
            "Requirement already satisfied: packaging>=20.0 in /usr/local/lib/python3.7/dist-packages (from dask<=2021.11.2,>=2021.09.1->autogluon.core[all]==0.4.0->autogluon) (21.3)\n",
            "Requirement already satisfied: cloudpickle>=1.1.1 in /usr/local/lib/python3.7/dist-packages (from dask<=2021.11.2,>=2021.09.1->autogluon.core[all]==0.4.0->autogluon) (1.3.0)\n",
            "Requirement already satisfied: toolz>=0.8.2 in /usr/local/lib/python3.7/dist-packages (from dask<=2021.11.2,>=2021.09.1->autogluon.core[all]==0.4.0->autogluon) (0.11.2)\n",
            "Collecting partd>=0.3.10\n",
            "  Downloading partd-1.2.0-py3-none-any.whl (19 kB)\n",
            "Requirement already satisfied: pyyaml in /usr/local/lib/python3.7/dist-packages (from dask<=2021.11.2,>=2021.09.1->autogluon.core[all]==0.4.0->autogluon) (3.13)\n",
            "Collecting fsspec>=0.6.0\n",
            "  Downloading fsspec-2022.3.0-py3-none-any.whl (136 kB)\n",
            "\u001b[K     |████████████████████████████████| 136 kB 52.9 MB/s \n",
            "\u001b[?25hRequirement already satisfied: click>=6.6 in /usr/local/lib/python3.7/dist-packages (from distributed<=2021.11.2,>=2021.09.1->autogluon.core[all]==0.4.0->autogluon) (7.1.2)\n",
            "Collecting cloudpickle>=1.1.1\n",
            "  Downloading cloudpickle-2.0.0-py3-none-any.whl (25 kB)\n",
            "Requirement already satisfied: sortedcontainers!=2.0.0,!=2.0.1 in /usr/local/lib/python3.7/dist-packages (from distributed<=2021.11.2,>=2021.09.1->autogluon.core[all]==0.4.0->autogluon) (2.4.0)\n",
            "Requirement already satisfied: tornado>=5 in /usr/local/lib/python3.7/dist-packages (from distributed<=2021.11.2,>=2021.09.1->autogluon.core[all]==0.4.0->autogluon) (5.1.1)\n",
            "Requirement already satisfied: zict>=0.1.3 in /usr/local/lib/python3.7/dist-packages (from distributed<=2021.11.2,>=2021.09.1->autogluon.core[all]==0.4.0->autogluon) (2.1.0)\n",
            "Requirement already satisfied: setuptools in /usr/local/lib/python3.7/dist-packages (from distributed<=2021.11.2,>=2021.09.1->autogluon.core[all]==0.4.0->autogluon) (57.4.0)\n",
            "Requirement already satisfied: jinja2 in /usr/local/lib/python3.7/dist-packages (from distributed<=2021.11.2,>=2021.09.1->autogluon.core[all]==0.4.0->autogluon) (2.11.3)\n",
            "Requirement already satisfied: msgpack>=0.6.0 in /usr/local/lib/python3.7/dist-packages (from distributed<=2021.11.2,>=2021.09.1->autogluon.core[all]==0.4.0->autogluon) (1.0.3)\n",
            "Requirement already satisfied: tblib>=1.6.0 in /usr/local/lib/python3.7/dist-packages (from distributed<=2021.11.2,>=2021.09.1->autogluon.core[all]==0.4.0->autogluon) (1.7.0)\n",
            "Collecting fastdownload<2,>=0.0.5\n",
            "  Downloading fastdownload-0.0.5-py3-none-any.whl (13 kB)\n",
            "Requirement already satisfied: pip in /usr/local/lib/python3.7/dist-packages (from fastai<2.6,>=2.3.1->autogluon.tabular[all]==0.4.0->autogluon) (21.1.3)\n",
            "Requirement already satisfied: fastprogress>=0.2.4 in /usr/local/lib/python3.7/dist-packages (from fastai<2.6,>=2.3.1->autogluon.tabular[all]==0.4.0->autogluon) (1.0.2)\n",
            "Collecting fastcore<1.5,>=1.3.27\n",
            "  Downloading fastcore-1.4.1-py3-none-any.whl (56 kB)\n",
            "\u001b[K     |████████████████████████████████| 56 kB 4.0 MB/s \n",
            "\u001b[?25hRequirement already satisfied: spacy<4 in /usr/local/lib/python3.7/dist-packages (from fastai<2.6,>=2.3.1->autogluon.tabular[all]==0.4.0->autogluon) (2.2.4)\n",
            "Requirement already satisfied: torchvision>=0.8.2 in /usr/local/lib/python3.7/dist-packages (from fastai<2.6,>=2.3.1->autogluon.tabular[all]==0.4.0->autogluon) (0.11.1+cu111)\n",
            "Requirement already satisfied: opencv-python in /usr/local/lib/python3.7/dist-packages (from gluoncv<0.10.6,>=0.10.5->autogluon.vision==0.4.0->autogluon) (4.1.2.30)\n",
            "Collecting autocfg\n",
            "  Downloading autocfg-0.0.8-py3-none-any.whl (13 kB)\n",
            "Collecting portalocker\n",
            "  Downloading portalocker-2.4.0-py2.py3-none-any.whl (16 kB)\n",
            "Requirement already satisfied: wheel in /usr/local/lib/python3.7/dist-packages (from lightgbm<3.4,>=3.3->autogluon.tabular[all]==0.4.0->autogluon) (0.37.1)\n",
            "Collecting typish>=1.7.0\n",
            "  Downloading typish-1.9.3-py3-none-any.whl (45 kB)\n",
            "\u001b[K     |████████████████████████████████| 45 kB 2.7 MB/s \n",
            "\u001b[?25hCollecting pyyaml\n",
            "  Downloading PyYAML-6.0-cp37-cp37m-manylinux_2_5_x86_64.manylinux1_x86_64.manylinux_2_12_x86_64.manylinux2010_x86_64.whl (596 kB)\n",
            "\u001b[K     |████████████████████████████████| 596 kB 49.8 MB/s \n",
            "\u001b[?25hCollecting antlr4-python3-runtime==4.8\n",
            "  Downloading antlr4-python3-runtime-4.8.tar.gz (112 kB)\n",
            "\u001b[K     |████████████████████████████████| 112 kB 56.6 MB/s \n",
            "\u001b[?25hRequirement already satisfied: pyparsing!=3.0.5,>=2.0.2 in /usr/local/lib/python3.7/dist-packages (from packaging>=20.0->dask<=2021.11.2,>=2021.09.1->autogluon.core[all]==0.4.0->autogluon) (3.0.7)\n",
            "Requirement already satisfied: pytz>=2017.3 in /usr/local/lib/python3.7/dist-packages (from pandas<1.4,>=1.2.5->autogluon.core[all]==0.4.0->autogluon) (2018.9)\n",
            "Requirement already satisfied: python-dateutil>=2.7.3 in /usr/local/lib/python3.7/dist-packages (from pandas<1.4,>=1.2.5->autogluon.core[all]==0.4.0->autogluon) (2.8.2)\n",
            "Collecting locket\n",
            "  Downloading locket-0.2.1-py2.py3-none-any.whl (4.1 kB)\n",
            "Requirement already satisfied: typing-extensions in /usr/local/lib/python3.7/dist-packages (from pytorch-lightning<1.6.0,>=1.5.10->autogluon.text==0.4.0->autogluon) (3.10.0.2)\n",
            "Collecting future>=0.17.1\n",
            "  Downloading future-0.18.2.tar.gz (829 kB)\n",
            "\u001b[K     |████████████████████████████████| 829 kB 50.7 MB/s \n",
            "\u001b[?25hCollecting pyDeprecate==0.3.1\n",
            "  Downloading pyDeprecate-0.3.1-py3-none-any.whl (10 kB)\n",
            "Requirement already satisfied: tensorboard>=2.2.0 in /usr/local/lib/python3.7/dist-packages (from pytorch-lightning<1.6.0,>=1.5.10->autogluon.text==0.4.0->autogluon) (2.8.0)\n",
            "Collecting setuptools\n",
            "  Downloading setuptools-59.5.0-py3-none-any.whl (952 kB)\n",
            "\u001b[K     |████████████████████████████████| 952 kB 36.4 MB/s \n",
            "\u001b[?25hCollecting aiohttp\n",
            "  Downloading aiohttp-3.8.1-cp37-cp37m-manylinux_2_5_x86_64.manylinux1_x86_64.manylinux_2_12_x86_64.manylinux2010_x86_64.whl (1.1 MB)\n",
            "\u001b[K     |████████████████████████████████| 1.1 MB 50.7 MB/s \n",
            "\u001b[?25hRequirement already satisfied: grpcio>=1.28.1 in /usr/local/lib/python3.7/dist-packages (from ray<1.9,>=1.7->autogluon.core[all]==0.4.0->autogluon) (1.44.0)\n",
            "Requirement already satisfied: jsonschema in /usr/local/lib/python3.7/dist-packages (from ray<1.9,>=1.7->autogluon.core[all]==0.4.0->autogluon) (4.3.3)\n",
            "Collecting redis>=3.5.0\n",
            "  Downloading redis-4.2.2-py3-none-any.whl (226 kB)\n",
            "\u001b[K     |████████████████████████████████| 226 kB 47.7 MB/s \n",
            "\u001b[?25hRequirement already satisfied: attrs in /usr/local/lib/python3.7/dist-packages (from ray<1.9,>=1.7->autogluon.core[all]==0.4.0->autogluon) (21.4.0)\n",
            "Requirement already satisfied: filelock in /usr/local/lib/python3.7/dist-packages (from ray<1.9,>=1.7->autogluon.core[all]==0.4.0->autogluon) (3.6.0)\n",
            "Collecting async-timeout>=4.0.2\n",
            "  Downloading async_timeout-4.0.2-py3-none-any.whl (5.8 kB)\n",
            "Collecting deprecated>=1.2.3\n",
            "  Downloading Deprecated-1.2.13-py2.py3-none-any.whl (9.6 kB)\n",
            "Requirement already satisfied: importlib-metadata>=1.0 in /usr/local/lib/python3.7/dist-packages (from redis>=3.5.0->ray<1.9,>=1.7->autogluon.core[all]==0.4.0->autogluon) (4.11.3)\n",
            "Requirement already satisfied: wrapt<2,>=1.10 in /usr/local/lib/python3.7/dist-packages (from deprecated>=1.2.3->redis>=3.5.0->ray<1.9,>=1.7->autogluon.core[all]==0.4.0->autogluon) (1.14.0)\n",
            "Requirement already satisfied: zipp>=0.5 in /usr/local/lib/python3.7/dist-packages (from importlib-metadata>=1.0->redis>=3.5.0->ray<1.9,>=1.7->autogluon.core[all]==0.4.0->autogluon) (3.7.0)\n",
            "Requirement already satisfied: joblib in /usr/local/lib/python3.7/dist-packages (from sacremoses>=0.0.38->autogluon-contrib-nlp==0.0.1b20220208->autogluon.text==0.4.0->autogluon) (1.1.0)\n",
            "Requirement already satisfied: PyWavelets>=1.1.1 in /usr/local/lib/python3.7/dist-packages (from scikit-image<0.20.0,>=0.19.1->autogluon.text==0.4.0->autogluon) (1.3.0)\n",
            "Requirement already satisfied: tifffile>=2019.7.26 in /usr/local/lib/python3.7/dist-packages (from scikit-image<0.20.0,>=0.19.1->autogluon.text==0.4.0->autogluon) (2021.11.2)\n",
            "Requirement already satisfied: imageio>=2.4.1 in /usr/local/lib/python3.7/dist-packages (from scikit-image<0.20.0,>=0.19.1->autogluon.text==0.4.0->autogluon) (2.4.1)\n",
            "Requirement already satisfied: threadpoolctl>=2.0.0 in /usr/local/lib/python3.7/dist-packages (from scikit-learn<1.1,>=1.0.0->autogluon.core[all]==0.4.0->autogluon) (3.1.0)\n",
            "Requirement already satisfied: plac<1.2.0,>=0.9.6 in /usr/local/lib/python3.7/dist-packages (from spacy<4->fastai<2.6,>=2.3.1->autogluon.tabular[all]==0.4.0->autogluon) (1.1.3)\n",
            "Requirement already satisfied: cymem<2.1.0,>=2.0.2 in /usr/local/lib/python3.7/dist-packages (from spacy<4->fastai<2.6,>=2.3.1->autogluon.tabular[all]==0.4.0->autogluon) (2.0.6)\n",
            "Requirement already satisfied: catalogue<1.1.0,>=0.0.7 in /usr/local/lib/python3.7/dist-packages (from spacy<4->fastai<2.6,>=2.3.1->autogluon.tabular[all]==0.4.0->autogluon) (1.0.0)\n",
            "Requirement already satisfied: blis<0.5.0,>=0.4.0 in /usr/local/lib/python3.7/dist-packages (from spacy<4->fastai<2.6,>=2.3.1->autogluon.tabular[all]==0.4.0->autogluon) (0.4.1)\n",
            "Requirement already satisfied: thinc==7.4.0 in /usr/local/lib/python3.7/dist-packages (from spacy<4->fastai<2.6,>=2.3.1->autogluon.tabular[all]==0.4.0->autogluon) (7.4.0)\n",
            "Requirement already satisfied: srsly<1.1.0,>=1.0.2 in /usr/local/lib/python3.7/dist-packages (from spacy<4->fastai<2.6,>=2.3.1->autogluon.tabular[all]==0.4.0->autogluon) (1.0.5)\n",
            "Requirement already satisfied: wasabi<1.1.0,>=0.4.0 in /usr/local/lib/python3.7/dist-packages (from spacy<4->fastai<2.6,>=2.3.1->autogluon.tabular[all]==0.4.0->autogluon) (0.9.0)\n",
            "Requirement already satisfied: murmurhash<1.1.0,>=0.28.0 in /usr/local/lib/python3.7/dist-packages (from spacy<4->fastai<2.6,>=2.3.1->autogluon.tabular[all]==0.4.0->autogluon) (1.0.6)\n",
            "Requirement already satisfied: preshed<3.1.0,>=3.0.2 in /usr/local/lib/python3.7/dist-packages (from spacy<4->fastai<2.6,>=2.3.1->autogluon.tabular[all]==0.4.0->autogluon) (3.0.6)\n",
            "Requirement already satisfied: chardet<4,>=3.0.2 in /usr/local/lib/python3.7/dist-packages (from requests->autogluon.core[all]==0.4.0->autogluon) (3.0.4)\n",
            "Requirement already satisfied: idna<3,>=2.5 in /usr/local/lib/python3.7/dist-packages (from requests->autogluon.core[all]==0.4.0->autogluon) (2.10)\n",
            "Requirement already satisfied: certifi>=2017.4.17 in /usr/local/lib/python3.7/dist-packages (from requests->autogluon.core[all]==0.4.0->autogluon) (2021.10.8)\n",
            "Requirement already satisfied: urllib3!=1.25.0,!=1.25.1,<1.26,>=1.21.1 in /usr/local/lib/python3.7/dist-packages (from requests->autogluon.core[all]==0.4.0->autogluon) (1.24.3)\n",
            "Requirement already satisfied: google-auth-oauthlib<0.5,>=0.4.1 in /usr/local/lib/python3.7/dist-packages (from tensorboard>=2.2.0->pytorch-lightning<1.6.0,>=1.5.10->autogluon.text==0.4.0->autogluon) (0.4.6)\n",
            "Requirement already satisfied: absl-py>=0.4 in /usr/local/lib/python3.7/dist-packages (from tensorboard>=2.2.0->pytorch-lightning<1.6.0,>=1.5.10->autogluon.text==0.4.0->autogluon) (1.0.0)\n",
            "Requirement already satisfied: tensorboard-plugin-wit>=1.6.0 in /usr/local/lib/python3.7/dist-packages (from tensorboard>=2.2.0->pytorch-lightning<1.6.0,>=1.5.10->autogluon.text==0.4.0->autogluon) (1.8.1)\n",
            "Requirement already satisfied: google-auth<3,>=1.6.3 in /usr/local/lib/python3.7/dist-packages (from tensorboard>=2.2.0->pytorch-lightning<1.6.0,>=1.5.10->autogluon.text==0.4.0->autogluon) (1.35.0)\n",
            "Requirement already satisfied: werkzeug>=0.11.15 in /usr/local/lib/python3.7/dist-packages (from tensorboard>=2.2.0->pytorch-lightning<1.6.0,>=1.5.10->autogluon.text==0.4.0->autogluon) (1.0.1)\n",
            "Requirement already satisfied: markdown>=2.6.8 in /usr/local/lib/python3.7/dist-packages (from tensorboard>=2.2.0->pytorch-lightning<1.6.0,>=1.5.10->autogluon.text==0.4.0->autogluon) (3.3.6)\n",
            "Requirement already satisfied: tensorboard-data-server<0.7.0,>=0.6.0 in /usr/local/lib/python3.7/dist-packages (from tensorboard>=2.2.0->pytorch-lightning<1.6.0,>=1.5.10->autogluon.text==0.4.0->autogluon) (0.6.1)\n",
            "Requirement already satisfied: rsa<5,>=3.1.4 in /usr/local/lib/python3.7/dist-packages (from google-auth<3,>=1.6.3->tensorboard>=2.2.0->pytorch-lightning<1.6.0,>=1.5.10->autogluon.text==0.4.0->autogluon) (4.8)\n",
            "Requirement already satisfied: pyasn1-modules>=0.2.1 in /usr/local/lib/python3.7/dist-packages (from google-auth<3,>=1.6.3->tensorboard>=2.2.0->pytorch-lightning<1.6.0,>=1.5.10->autogluon.text==0.4.0->autogluon) (0.2.8)\n",
            "Requirement already satisfied: cachetools<5.0,>=2.0.0 in /usr/local/lib/python3.7/dist-packages (from google-auth<3,>=1.6.3->tensorboard>=2.2.0->pytorch-lightning<1.6.0,>=1.5.10->autogluon.text==0.4.0->autogluon) (4.2.4)\n",
            "Requirement already satisfied: requests-oauthlib>=0.7.0 in /usr/local/lib/python3.7/dist-packages (from google-auth-oauthlib<0.5,>=0.4.1->tensorboard>=2.2.0->pytorch-lightning<1.6.0,>=1.5.10->autogluon.text==0.4.0->autogluon) (1.3.1)\n",
            "Requirement already satisfied: pyasn1<0.5.0,>=0.4.6 in /usr/local/lib/python3.7/dist-packages (from pyasn1-modules>=0.2.1->google-auth<3,>=1.6.3->tensorboard>=2.2.0->pytorch-lightning<1.6.0,>=1.5.10->autogluon.text==0.4.0->autogluon) (0.4.8)\n",
            "Requirement already satisfied: oauthlib>=3.0.0 in /usr/local/lib/python3.7/dist-packages (from requests-oauthlib>=0.7.0->google-auth-oauthlib<0.5,>=0.4.1->tensorboard>=2.2.0->pytorch-lightning<1.6.0,>=1.5.10->autogluon.text==0.4.0->autogluon) (3.2.0)\n",
            "Collecting huggingface-hub<1.0,>=0.1.0\n",
            "  Downloading huggingface_hub-0.5.1-py3-none-any.whl (77 kB)\n",
            "\u001b[K     |████████████████████████████████| 77 kB 6.2 MB/s \n",
            "\u001b[?25hRequirement already satisfied: heapdict in /usr/local/lib/python3.7/dist-packages (from zict>=0.1.3->distributed<=2021.11.2,>=2021.09.1->autogluon.core[all]==0.4.0->autogluon) (1.0.1)\n",
            "Collecting aiosignal>=1.1.2\n",
            "  Downloading aiosignal-1.2.0-py3-none-any.whl (8.2 kB)\n",
            "Requirement already satisfied: charset-normalizer<3.0,>=2.0 in /usr/local/lib/python3.7/dist-packages (from aiohttp->fsspec>=0.6.0->dask<=2021.11.2,>=2021.09.1->autogluon.core[all]==0.4.0->autogluon) (2.0.12)\n",
            "Collecting multidict<7.0,>=4.5\n",
            "  Downloading multidict-6.0.2-cp37-cp37m-manylinux_2_17_x86_64.manylinux2014_x86_64.whl (94 kB)\n",
            "\u001b[K     |████████████████████████████████| 94 kB 2.9 MB/s \n",
            "\u001b[?25hCollecting asynctest==0.13.0\n",
            "  Downloading asynctest-0.13.0-py3-none-any.whl (26 kB)\n",
            "Collecting yarl<2.0,>=1.0\n",
            "  Downloading yarl-1.7.2-cp37-cp37m-manylinux_2_5_x86_64.manylinux1_x86_64.manylinux_2_12_x86_64.manylinux2010_x86_64.whl (271 kB)\n",
            "\u001b[K     |████████████████████████████████| 271 kB 52.9 MB/s \n",
            "\u001b[?25hCollecting frozenlist>=1.1.1\n",
            "  Downloading frozenlist-1.3.0-cp37-cp37m-manylinux_2_5_x86_64.manylinux1_x86_64.manylinux_2_17_x86_64.manylinux2014_x86_64.whl (144 kB)\n",
            "\u001b[K     |████████████████████████████████| 144 kB 45.7 MB/s \n",
            "\u001b[?25hCollecting botocore<1.25.0,>=1.24.37\n",
            "  Downloading botocore-1.24.37-py3-none-any.whl (8.7 MB)\n",
            "\u001b[K     |████████████████████████████████| 8.7 MB 31.5 MB/s \n",
            "\u001b[?25hCollecting jmespath<2.0.0,>=0.7.1\n",
            "  Downloading jmespath-1.0.0-py3-none-any.whl (23 kB)\n",
            "Collecting s3transfer<0.6.0,>=0.5.0\n",
            "  Downloading s3transfer-0.5.2-py3-none-any.whl (79 kB)\n",
            "\u001b[K     |████████████████████████████████| 79 kB 7.2 MB/s \n",
            "\u001b[?25hCollecting urllib3!=1.25.0,!=1.25.1,<1.26,>=1.21.1\n",
            "  Downloading urllib3-1.25.11-py2.py3-none-any.whl (127 kB)\n",
            "\u001b[K     |████████████████████████████████| 127 kB 56.1 MB/s \n",
            "\u001b[?25hCollecting immutables>=0.9\n",
            "  Downloading immutables-0.17-cp37-cp37m-manylinux_2_5_x86_64.manylinux1_x86_64.manylinux_2_17_x86_64.manylinux2014_x86_64.whl (116 kB)\n",
            "\u001b[K     |████████████████████████████████| 116 kB 60.8 MB/s \n",
            "\u001b[?25hCollecting pyflakes<2.5.0,>=2.4.0\n",
            "  Downloading pyflakes-2.4.0-py2.py3-none-any.whl (69 kB)\n",
            "\u001b[K     |████████████████████████████████| 69 kB 6.7 MB/s \n",
            "\u001b[?25hCollecting pycodestyle<2.9.0,>=2.8.0\n",
            "  Downloading pycodestyle-2.8.0-py2.py3-none-any.whl (42 kB)\n",
            "\u001b[K     |████████████████████████████████| 42 kB 825 kB/s \n",
            "\u001b[?25hCollecting flake8\n",
            "  Downloading flake8-4.0.0-py2.py3-none-any.whl (64 kB)\n",
            "\u001b[K     |████████████████████████████████| 64 kB 1.8 MB/s \n",
            "\u001b[?25h  Downloading flake8-3.9.2-py2.py3-none-any.whl (73 kB)\n",
            "\u001b[K     |████████████████████████████████| 73 kB 1.3 MB/s \n",
            "\u001b[?25hCollecting pycodestyle<2.8.0,>=2.7.0\n",
            "  Downloading pycodestyle-2.7.0-py2.py3-none-any.whl (41 kB)\n",
            "\u001b[K     |████████████████████████████████| 41 kB 489 kB/s \n",
            "\u001b[?25hCollecting mccabe<0.7.0,>=0.6.0\n",
            "  Downloading mccabe-0.6.1-py2.py3-none-any.whl (8.6 kB)\n",
            "Collecting pyflakes<2.4.0,>=2.3.0\n",
            "  Downloading pyflakes-2.3.1-py2.py3-none-any.whl (68 kB)\n",
            "\u001b[K     |████████████████████████████████| 68 kB 5.0 MB/s \n",
            "\u001b[?25hRequirement already satisfied: MarkupSafe>=0.23 in /usr/local/lib/python3.7/dist-packages (from jinja2->distributed<=2021.11.2,>=2021.09.1->autogluon.core[all]==0.4.0->autogluon) (2.0.1)\n",
            "Requirement already satisfied: pyrsistent!=0.17.0,!=0.17.1,!=0.17.2,>=0.14.0 in /usr/local/lib/python3.7/dist-packages (from jsonschema->ray<1.9,>=1.7->autogluon.core[all]==0.4.0->autogluon) (0.18.1)\n",
            "Requirement already satisfied: importlib-resources>=1.4.0 in /usr/local/lib/python3.7/dist-packages (from jsonschema->ray<1.9,>=1.7->autogluon.core[all]==0.4.0->autogluon) (5.4.0)\n",
            "Requirement already satisfied: kiwisolver>=1.0.1 in /usr/local/lib/python3.7/dist-packages (from matplotlib->autogluon.core[all]==0.4.0->autogluon) (1.4.0)\n",
            "Requirement already satisfied: cycler>=0.10 in /usr/local/lib/python3.7/dist-packages (from matplotlib->autogluon.core[all]==0.4.0->autogluon) (0.11.0)\n",
            "Requirement already satisfied: tenacity>=6.2.0 in /usr/local/lib/python3.7/dist-packages (from plotly->catboost<1.1,>=1.0->autogluon.tabular[all]==0.4.0->autogluon) (8.0.1)\n",
            "Requirement already satisfied: tabulate>=0.8.9 in /usr/local/lib/python3.7/dist-packages (from sacrebleu->autogluon-contrib-nlp==0.0.1b20220208->autogluon.text==0.4.0->autogluon) (0.8.9)\n",
            "Collecting colorama\n",
            "  Downloading colorama-0.4.4-py2.py3-none-any.whl (16 kB)\n",
            "Building wheels for collected packages: fairscale, antlr4-python3-runtime, future, contextvars\n",
            "  Building wheel for fairscale (PEP 517) ... \u001b[?25l\u001b[?25hdone\n",
            "  Created wheel for fairscale: filename=fairscale-0.4.6-py3-none-any.whl size=307252 sha256=4da330c90eab85d6c40c883e9096581f205450be625a7d12b396f8d99dd926c1\n",
            "  Stored in directory: /root/.cache/pip/wheels/4e/4f/0b/94c29ea06dfad93260cb0377855f87b7b863312317a7f69fe7\n",
            "  Building wheel for antlr4-python3-runtime (setup.py) ... \u001b[?25l\u001b[?25hdone\n",
            "  Created wheel for antlr4-python3-runtime: filename=antlr4_python3_runtime-4.8-py3-none-any.whl size=141230 sha256=d19e38f1bf06564386e126ea39db48a98e7f6f7b950fd81f2b9a9b2adc38fe1e\n",
            "  Stored in directory: /root/.cache/pip/wheels/ca/33/b7/336836125fc9bb4ceaa4376d8abca10ca8bc84ddc824baea6c\n",
            "  Building wheel for future (setup.py) ... \u001b[?25l\u001b[?25hdone\n",
            "  Created wheel for future: filename=future-0.18.2-py3-none-any.whl size=491070 sha256=649f49879c913b413eeadfb5ce573da689a42e609636f20070246351949e672c\n",
            "  Stored in directory: /root/.cache/pip/wheels/56/b0/fe/4410d17b32f1f0c3cf54cdfb2bc04d7b4b8f4ae377e2229ba0\n",
            "  Building wheel for contextvars (setup.py) ... \u001b[?25l\u001b[?25hdone\n",
            "  Created wheel for contextvars: filename=contextvars-2.4-py3-none-any.whl size=7681 sha256=657b1940f6c0c58787ae2bdb6d118b98b6cc2485d54f0bbd5660e45420aae882\n",
            "  Stored in directory: /root/.cache/pip/wheels/0a/11/79/e70e668095c0bb1f94718af672ef2d35ee7a023fee56ef54d9\n",
            "Successfully built fairscale antlr4-python3-runtime future contextvars\n",
            "Installing collected packages: urllib3, jmespath, locket, botocore, setuptools, s3transfer, pyyaml, partd, multidict, fsspec, frozenlist, cloudpickle, yarl, scipy, psutil, dask, boto3, asynctest, async-timeout, aiosignal, pyflakes, pyDeprecate, pycodestyle, portalocker, Pillow, mccabe, immutables, fastcore, distributed, deprecated, colorama, autogluon.common, aiohttp, yacs, typish, torchmetrics, tokenizers, sentencepiece, sacremoses, sacrebleu, redis, huggingface-hub, future, flake8, fastdownload, contextvars, autogluon.features, autogluon.core, autocfg, antlr4-python3-runtime, xgboost, transformers, timm, scikit-image, ray, pytorch-lightning, omegaconf, nptyping, lightgbm, gluoncv, fastai, fairscale, catboost, autogluon.tabular, autogluon-contrib-nlp, autogluon.vision, autogluon.text, autogluon\n",
            "  Attempting uninstall: urllib3\n",
            "    Found existing installation: urllib3 1.24.3\n",
            "    Uninstalling urllib3-1.24.3:\n",
            "      Successfully uninstalled urllib3-1.24.3\n",
            "  Attempting uninstall: setuptools\n",
            "    Found existing installation: setuptools 57.4.0\n",
            "    Uninstalling setuptools-57.4.0:\n",
            "      Successfully uninstalled setuptools-57.4.0\n",
            "  Attempting uninstall: pyyaml\n",
            "    Found existing installation: PyYAML 3.13\n",
            "    Uninstalling PyYAML-3.13:\n",
            "      Successfully uninstalled PyYAML-3.13\n",
            "  Attempting uninstall: cloudpickle\n",
            "    Found existing installation: cloudpickle 1.3.0\n",
            "    Uninstalling cloudpickle-1.3.0:\n",
            "      Successfully uninstalled cloudpickle-1.3.0\n",
            "  Attempting uninstall: scipy\n",
            "    Found existing installation: scipy 1.4.1\n",
            "    Uninstalling scipy-1.4.1:\n",
            "      Successfully uninstalled scipy-1.4.1\n",
            "  Attempting uninstall: psutil\n",
            "    Found existing installation: psutil 5.4.8\n",
            "    Uninstalling psutil-5.4.8:\n",
            "      Successfully uninstalled psutil-5.4.8\n",
            "  Attempting uninstall: dask\n",
            "    Found existing installation: dask 2.12.0\n",
            "    Uninstalling dask-2.12.0:\n",
            "      Successfully uninstalled dask-2.12.0\n",
            "  Attempting uninstall: Pillow\n",
            "    Found existing installation: Pillow 7.1.2\n",
            "    Uninstalling Pillow-7.1.2:\n",
            "      Successfully uninstalled Pillow-7.1.2\n",
            "  Attempting uninstall: distributed\n",
            "    Found existing installation: distributed 1.25.3\n",
            "    Uninstalling distributed-1.25.3:\n",
            "      Successfully uninstalled distributed-1.25.3\n",
            "  Attempting uninstall: future\n",
            "    Found existing installation: future 0.16.0\n",
            "    Uninstalling future-0.16.0:\n",
            "      Successfully uninstalled future-0.16.0\n",
            "  Attempting uninstall: xgboost\n",
            "    Found existing installation: xgboost 0.90\n",
            "    Uninstalling xgboost-0.90:\n",
            "      Successfully uninstalled xgboost-0.90\n",
            "  Attempting uninstall: scikit-image\n",
            "    Found existing installation: scikit-image 0.18.3\n",
            "    Uninstalling scikit-image-0.18.3:\n",
            "      Successfully uninstalled scikit-image-0.18.3\n",
            "  Attempting uninstall: lightgbm\n",
            "    Found existing installation: lightgbm 2.2.3\n",
            "    Uninstalling lightgbm-2.2.3:\n",
            "      Successfully uninstalled lightgbm-2.2.3\n",
            "  Attempting uninstall: fastai\n",
            "    Found existing installation: fastai 1.0.61\n",
            "    Uninstalling fastai-1.0.61:\n",
            "      Successfully uninstalled fastai-1.0.61\n",
            "\u001b[31mERROR: pip's dependency resolver does not currently take into account all the packages that are installed. This behaviour is the source of the following dependency conflicts.\n",
            "tensorflow 2.8.0 requires tf-estimator-nightly==2.8.0.dev2021122109, which is not installed.\n",
            "gym 0.17.3 requires cloudpickle<1.7.0,>=1.2.0, but you have cloudpickle 2.0.0 which is incompatible.\n",
            "datascience 0.10.6 requires folium==0.2.1, but you have folium 0.8.3 which is incompatible.\n",
            "albumentations 0.1.12 requires imgaug<0.2.7,>=0.2.5, but you have imgaug 0.2.9 which is incompatible.\u001b[0m\n",
            "Successfully installed Pillow-9.0.1 aiohttp-3.8.1 aiosignal-1.2.0 antlr4-python3-runtime-4.8 async-timeout-4.0.2 asynctest-0.13.0 autocfg-0.0.8 autogluon-0.4.0 autogluon-contrib-nlp-0.0.1b20220208 autogluon.common-0.4.0 autogluon.core-0.4.0 autogluon.features-0.4.0 autogluon.tabular-0.4.0 autogluon.text-0.4.0 autogluon.vision-0.4.0 boto3-1.21.37 botocore-1.24.37 catboost-1.0.5 cloudpickle-2.0.0 colorama-0.4.4 contextvars-2.4 dask-2021.11.2 deprecated-1.2.13 distributed-2021.11.2 fairscale-0.4.6 fastai-2.5.6 fastcore-1.4.1 fastdownload-0.0.5 flake8-3.9.2 frozenlist-1.3.0 fsspec-2022.3.0 future-0.18.2 gluoncv-0.10.5 huggingface-hub-0.5.1 immutables-0.17 jmespath-1.0.0 lightgbm-3.3.2 locket-0.2.1 mccabe-0.6.1 multidict-6.0.2 nptyping-1.4.4 omegaconf-2.1.1 partd-1.2.0 portalocker-2.4.0 psutil-5.8.0 pyDeprecate-0.3.1 pycodestyle-2.7.0 pyflakes-2.3.1 pytorch-lightning-1.5.10 pyyaml-6.0 ray-1.8.0 redis-4.2.2 s3transfer-0.5.2 sacrebleu-2.0.0 sacremoses-0.0.49 scikit-image-0.19.2 scipy-1.7.3 sentencepiece-0.1.95 setuptools-59.5.0 timm-0.5.4 tokenizers-0.11.6 torchmetrics-0.7.3 transformers-4.16.2 typish-1.9.3 urllib3-1.25.11 xgboost-1.4.2 yacs-0.1.8 yarl-1.7.2\n"
          ]
        },
        {
          "output_type": "display_data",
          "data": {
            "application/vnd.colab-display-data+json": {
              "pip_warning": {
                "packages": [
                  "PIL",
                  "contextvars",
                  "pkg_resources",
                  "psutil",
                  "pydevd_plugins"
                ]
              }
            }
          },
          "metadata": {}
        },
        {
          "output_type": "stream",
          "name": "stdout",
          "text": [
            "Collecting dice_ml\n",
            "  Downloading dice_ml-0.7.2-py3-none-any.whl (242 kB)\n",
            "\u001b[?25l\r\u001b[K     |█▍                              | 10 kB 15.2 MB/s eta 0:00:01\r\u001b[K     |██▊                             | 20 kB 15.3 MB/s eta 0:00:01\r\u001b[K     |████                            | 30 kB 10.5 MB/s eta 0:00:01\r\u001b[K     |█████▍                          | 40 kB 4.5 MB/s eta 0:00:01\r\u001b[K     |██████▊                         | 51 kB 4.3 MB/s eta 0:00:01\r\u001b[K     |████████▏                       | 61 kB 5.0 MB/s eta 0:00:01\r\u001b[K     |█████████▌                      | 71 kB 5.7 MB/s eta 0:00:01\r\u001b[K     |██████████▉                     | 81 kB 5.0 MB/s eta 0:00:01\r\u001b[K     |████████████▏                   | 92 kB 5.6 MB/s eta 0:00:01\r\u001b[K     |█████████████▌                  | 102 kB 5.1 MB/s eta 0:00:01\r\u001b[K     |██████████████▉                 | 112 kB 5.1 MB/s eta 0:00:01\r\u001b[K     |████████████████▎               | 122 kB 5.1 MB/s eta 0:00:01\r\u001b[K     |█████████████████▋              | 133 kB 5.1 MB/s eta 0:00:01\r\u001b[K     |███████████████████             | 143 kB 5.1 MB/s eta 0:00:01\r\u001b[K     |████████████████████▎           | 153 kB 5.1 MB/s eta 0:00:01\r\u001b[K     |█████████████████████▋          | 163 kB 5.1 MB/s eta 0:00:01\r\u001b[K     |███████████████████████         | 174 kB 5.1 MB/s eta 0:00:01\r\u001b[K     |████████████████████████▍       | 184 kB 5.1 MB/s eta 0:00:01\r\u001b[K     |█████████████████████████▊      | 194 kB 5.1 MB/s eta 0:00:01\r\u001b[K     |███████████████████████████     | 204 kB 5.1 MB/s eta 0:00:01\r\u001b[K     |████████████████████████████▍   | 215 kB 5.1 MB/s eta 0:00:01\r\u001b[K     |█████████████████████████████▊  | 225 kB 5.1 MB/s eta 0:00:01\r\u001b[K     |███████████████████████████████▏| 235 kB 5.1 MB/s eta 0:00:01\r\u001b[K     |████████████████████████████████| 242 kB 5.1 MB/s \n",
            "\u001b[?25hRequirement already satisfied: scikit-learn in /usr/local/lib/python3.7/dist-packages (from dice_ml) (1.0.2)\n",
            "Requirement already satisfied: tqdm in /usr/local/lib/python3.7/dist-packages (from dice_ml) (4.63.0)\n",
            "Requirement already satisfied: pandas in /usr/local/lib/python3.7/dist-packages (from dice_ml) (1.3.5)\n",
            "Requirement already satisfied: h5py in /usr/local/lib/python3.7/dist-packages (from dice_ml) (3.1.0)\n",
            "Requirement already satisfied: numpy in /usr/local/lib/python3.7/dist-packages (from dice_ml) (1.21.5)\n",
            "Requirement already satisfied: jsonschema in /usr/local/lib/python3.7/dist-packages (from dice_ml) (4.3.3)\n",
            "Requirement already satisfied: cached-property in /usr/local/lib/python3.7/dist-packages (from h5py->dice_ml) (1.5.2)\n",
            "Requirement already satisfied: importlib-resources>=1.4.0 in /usr/local/lib/python3.7/dist-packages (from jsonschema->dice_ml) (5.4.0)\n",
            "Requirement already satisfied: importlib-metadata in /usr/local/lib/python3.7/dist-packages (from jsonschema->dice_ml) (4.11.3)\n",
            "Requirement already satisfied: attrs>=17.4.0 in /usr/local/lib/python3.7/dist-packages (from jsonschema->dice_ml) (21.4.0)\n",
            "Requirement already satisfied: pyrsistent!=0.17.0,!=0.17.1,!=0.17.2,>=0.14.0 in /usr/local/lib/python3.7/dist-packages (from jsonschema->dice_ml) (0.18.1)\n",
            "Requirement already satisfied: typing-extensions in /usr/local/lib/python3.7/dist-packages (from jsonschema->dice_ml) (3.10.0.2)\n",
            "Requirement already satisfied: zipp>=3.1.0 in /usr/local/lib/python3.7/dist-packages (from importlib-resources>=1.4.0->jsonschema->dice_ml) (3.7.0)\n",
            "Requirement already satisfied: python-dateutil>=2.7.3 in /usr/local/lib/python3.7/dist-packages (from pandas->dice_ml) (2.8.2)\n",
            "Requirement already satisfied: pytz>=2017.3 in /usr/local/lib/python3.7/dist-packages (from pandas->dice_ml) (2018.9)\n",
            "Requirement already satisfied: six>=1.5 in /usr/local/lib/python3.7/dist-packages (from python-dateutil>=2.7.3->pandas->dice_ml) (1.15.0)\n",
            "Requirement already satisfied: scipy>=1.1.0 in /usr/local/lib/python3.7/dist-packages (from scikit-learn->dice_ml) (1.7.3)\n",
            "Requirement already satisfied: threadpoolctl>=2.0.0 in /usr/local/lib/python3.7/dist-packages (from scikit-learn->dice_ml) (3.1.0)\n",
            "Requirement already satisfied: joblib>=0.11 in /usr/local/lib/python3.7/dist-packages (from scikit-learn->dice_ml) (1.1.0)\n",
            "Installing collected packages: dice-ml\n",
            "Successfully installed dice-ml-0.7.2\n"
          ]
        }
      ],
      "source": [
        "!pip install autogluon\n",
        "from autogluon.tabular import TabularDataset, TabularPredictor\n",
        "\n",
        "# import DiCE\n",
        "!pip install dice_ml\n",
        "import dice_ml\n",
        "from dice_ml import Dice\n",
        "\n",
        "from sklearn.datasets import load_iris, fetch_california_housing\n",
        "from sklearn.pipeline import Pipeline\n",
        "from sklearn.preprocessing import StandardScaler, OneHotEncoder\n",
        "from sklearn.model_selection import train_test_split\n",
        "from sklearn.compose import ColumnTransformer\n",
        "from sklearn.ensemble import RandomForestClassifier, RandomForestRegressor\n",
        "\n",
        "import pandas as pd"
      ]
    },
    {
      "cell_type": "code",
      "source": [
        "from google.colab import drive\n",
        "drive.mount('/content/drive')"
      ],
      "metadata": {
        "colab": {
          "base_uri": "https://localhost:8080/"
        },
        "id": "uB5B6P1ZPs2f",
        "outputId": "4ab4837a-d3a0-45e0-b65e-3425ac61e58d"
      },
      "execution_count": 5,
      "outputs": [
        {
          "output_type": "stream",
          "name": "stdout",
          "text": [
            "Drive already mounted at /content/drive; to attempt to forcibly remount, call drive.mount(\"/content/drive\", force_remount=True).\n"
          ]
        }
      ]
    },
    {
      "cell_type": "code",
      "source": [
        "df = pd.read_csv('/content/drive/MyDrive/Final_Data_Collection/Diabetes_Data_1999_2008.csv',na_values=['?'])"
      ],
      "metadata": {
        "id": "l3Rq2zh6QJE0",
        "outputId": "33aae852-af6b-4b71-8df7-f9ede697e5d9",
        "colab": {
          "base_uri": "https://localhost:8080/"
        }
      },
      "execution_count": 68,
      "outputs": [
        {
          "output_type": "stream",
          "name": "stderr",
          "text": [
            "/usr/local/lib/python3.7/dist-packages/IPython/core/interactiveshell.py:2882: DtypeWarning: Columns (10) have mixed types.Specify dtype option on import or set low_memory=False.\n",
            "  exec(code_obj, self.user_global_ns, self.user_ns)\n"
          ]
        }
      ]
    },
    {
      "cell_type": "code",
      "source": [
        "df.head()"
      ],
      "metadata": {
        "colab": {
          "base_uri": "https://localhost:8080/",
          "height": 403
        },
        "id": "VD8oHOHKXfdY",
        "outputId": "5e3f78b6-6d1f-4eba-96c1-a220ec9caf47"
      },
      "execution_count": 69,
      "outputs": [
        {
          "output_type": "execute_result",
          "data": {
            "text/plain": [
              "   encounter_id  patient_nbr             race  gender      age weight  \\\n",
              "0       2278392      8222157        Caucasian  Female   [0-10)    NaN   \n",
              "1        149190     55629189        Caucasian  Female  [10-20)    NaN   \n",
              "2         64410     86047875  AfricanAmerican  Female  [20-30)    NaN   \n",
              "3        500364     82442376        Caucasian    Male  [30-40)    NaN   \n",
              "4         16680     42519267        Caucasian    Male  [40-50)    NaN   \n",
              "\n",
              "   admission_type_id  discharge_disposition_id  admission_source_id  \\\n",
              "0                  6                        25                    1   \n",
              "1                  1                         1                    7   \n",
              "2                  1                         1                    7   \n",
              "3                  1                         1                    7   \n",
              "4                  1                         1                    7   \n",
              "\n",
              "   time_in_hospital  ... citoglipton insulin  glyburide-metformin  \\\n",
              "0                 1  ...          No      No                   No   \n",
              "1                 3  ...          No      Up                   No   \n",
              "2                 2  ...          No      No                   No   \n",
              "3                 2  ...          No      Up                   No   \n",
              "4                 1  ...          No  Steady                   No   \n",
              "\n",
              "   glipizide-metformin  glimepiride-pioglitazone  metformin-rosiglitazone  \\\n",
              "0                   No                        No                       No   \n",
              "1                   No                        No                       No   \n",
              "2                   No                        No                       No   \n",
              "3                   No                        No                       No   \n",
              "4                   No                        No                       No   \n",
              "\n",
              "   metformin-pioglitazone  change diabetesMed readmitted  \n",
              "0                      No      No          No         NO  \n",
              "1                      No      Ch         Yes        >30  \n",
              "2                      No      No         Yes         NO  \n",
              "3                      No      Ch         Yes         NO  \n",
              "4                      No      Ch         Yes         NO  \n",
              "\n",
              "[5 rows x 50 columns]"
            ],
            "text/html": [
              "\n",
              "  <div id=\"df-d3c6692f-c827-44d9-93c1-5dd3a1b9521e\">\n",
              "    <div class=\"colab-df-container\">\n",
              "      <div>\n",
              "<style scoped>\n",
              "    .dataframe tbody tr th:only-of-type {\n",
              "        vertical-align: middle;\n",
              "    }\n",
              "\n",
              "    .dataframe tbody tr th {\n",
              "        vertical-align: top;\n",
              "    }\n",
              "\n",
              "    .dataframe thead th {\n",
              "        text-align: right;\n",
              "    }\n",
              "</style>\n",
              "<table border=\"1\" class=\"dataframe\">\n",
              "  <thead>\n",
              "    <tr style=\"text-align: right;\">\n",
              "      <th></th>\n",
              "      <th>encounter_id</th>\n",
              "      <th>patient_nbr</th>\n",
              "      <th>race</th>\n",
              "      <th>gender</th>\n",
              "      <th>age</th>\n",
              "      <th>weight</th>\n",
              "      <th>admission_type_id</th>\n",
              "      <th>discharge_disposition_id</th>\n",
              "      <th>admission_source_id</th>\n",
              "      <th>time_in_hospital</th>\n",
              "      <th>...</th>\n",
              "      <th>citoglipton</th>\n",
              "      <th>insulin</th>\n",
              "      <th>glyburide-metformin</th>\n",
              "      <th>glipizide-metformin</th>\n",
              "      <th>glimepiride-pioglitazone</th>\n",
              "      <th>metformin-rosiglitazone</th>\n",
              "      <th>metformin-pioglitazone</th>\n",
              "      <th>change</th>\n",
              "      <th>diabetesMed</th>\n",
              "      <th>readmitted</th>\n",
              "    </tr>\n",
              "  </thead>\n",
              "  <tbody>\n",
              "    <tr>\n",
              "      <th>0</th>\n",
              "      <td>2278392</td>\n",
              "      <td>8222157</td>\n",
              "      <td>Caucasian</td>\n",
              "      <td>Female</td>\n",
              "      <td>[0-10)</td>\n",
              "      <td>NaN</td>\n",
              "      <td>6</td>\n",
              "      <td>25</td>\n",
              "      <td>1</td>\n",
              "      <td>1</td>\n",
              "      <td>...</td>\n",
              "      <td>No</td>\n",
              "      <td>No</td>\n",
              "      <td>No</td>\n",
              "      <td>No</td>\n",
              "      <td>No</td>\n",
              "      <td>No</td>\n",
              "      <td>No</td>\n",
              "      <td>No</td>\n",
              "      <td>No</td>\n",
              "      <td>NO</td>\n",
              "    </tr>\n",
              "    <tr>\n",
              "      <th>1</th>\n",
              "      <td>149190</td>\n",
              "      <td>55629189</td>\n",
              "      <td>Caucasian</td>\n",
              "      <td>Female</td>\n",
              "      <td>[10-20)</td>\n",
              "      <td>NaN</td>\n",
              "      <td>1</td>\n",
              "      <td>1</td>\n",
              "      <td>7</td>\n",
              "      <td>3</td>\n",
              "      <td>...</td>\n",
              "      <td>No</td>\n",
              "      <td>Up</td>\n",
              "      <td>No</td>\n",
              "      <td>No</td>\n",
              "      <td>No</td>\n",
              "      <td>No</td>\n",
              "      <td>No</td>\n",
              "      <td>Ch</td>\n",
              "      <td>Yes</td>\n",
              "      <td>&gt;30</td>\n",
              "    </tr>\n",
              "    <tr>\n",
              "      <th>2</th>\n",
              "      <td>64410</td>\n",
              "      <td>86047875</td>\n",
              "      <td>AfricanAmerican</td>\n",
              "      <td>Female</td>\n",
              "      <td>[20-30)</td>\n",
              "      <td>NaN</td>\n",
              "      <td>1</td>\n",
              "      <td>1</td>\n",
              "      <td>7</td>\n",
              "      <td>2</td>\n",
              "      <td>...</td>\n",
              "      <td>No</td>\n",
              "      <td>No</td>\n",
              "      <td>No</td>\n",
              "      <td>No</td>\n",
              "      <td>No</td>\n",
              "      <td>No</td>\n",
              "      <td>No</td>\n",
              "      <td>No</td>\n",
              "      <td>Yes</td>\n",
              "      <td>NO</td>\n",
              "    </tr>\n",
              "    <tr>\n",
              "      <th>3</th>\n",
              "      <td>500364</td>\n",
              "      <td>82442376</td>\n",
              "      <td>Caucasian</td>\n",
              "      <td>Male</td>\n",
              "      <td>[30-40)</td>\n",
              "      <td>NaN</td>\n",
              "      <td>1</td>\n",
              "      <td>1</td>\n",
              "      <td>7</td>\n",
              "      <td>2</td>\n",
              "      <td>...</td>\n",
              "      <td>No</td>\n",
              "      <td>Up</td>\n",
              "      <td>No</td>\n",
              "      <td>No</td>\n",
              "      <td>No</td>\n",
              "      <td>No</td>\n",
              "      <td>No</td>\n",
              "      <td>Ch</td>\n",
              "      <td>Yes</td>\n",
              "      <td>NO</td>\n",
              "    </tr>\n",
              "    <tr>\n",
              "      <th>4</th>\n",
              "      <td>16680</td>\n",
              "      <td>42519267</td>\n",
              "      <td>Caucasian</td>\n",
              "      <td>Male</td>\n",
              "      <td>[40-50)</td>\n",
              "      <td>NaN</td>\n",
              "      <td>1</td>\n",
              "      <td>1</td>\n",
              "      <td>7</td>\n",
              "      <td>1</td>\n",
              "      <td>...</td>\n",
              "      <td>No</td>\n",
              "      <td>Steady</td>\n",
              "      <td>No</td>\n",
              "      <td>No</td>\n",
              "      <td>No</td>\n",
              "      <td>No</td>\n",
              "      <td>No</td>\n",
              "      <td>Ch</td>\n",
              "      <td>Yes</td>\n",
              "      <td>NO</td>\n",
              "    </tr>\n",
              "  </tbody>\n",
              "</table>\n",
              "<p>5 rows × 50 columns</p>\n",
              "</div>\n",
              "      <button class=\"colab-df-convert\" onclick=\"convertToInteractive('df-d3c6692f-c827-44d9-93c1-5dd3a1b9521e')\"\n",
              "              title=\"Convert this dataframe to an interactive table.\"\n",
              "              style=\"display:none;\">\n",
              "        \n",
              "  <svg xmlns=\"http://www.w3.org/2000/svg\" height=\"24px\"viewBox=\"0 0 24 24\"\n",
              "       width=\"24px\">\n",
              "    <path d=\"M0 0h24v24H0V0z\" fill=\"none\"/>\n",
              "    <path d=\"M18.56 5.44l.94 2.06.94-2.06 2.06-.94-2.06-.94-.94-2.06-.94 2.06-2.06.94zm-11 1L8.5 8.5l.94-2.06 2.06-.94-2.06-.94L8.5 2.5l-.94 2.06-2.06.94zm10 10l.94 2.06.94-2.06 2.06-.94-2.06-.94-.94-2.06-.94 2.06-2.06.94z\"/><path d=\"M17.41 7.96l-1.37-1.37c-.4-.4-.92-.59-1.43-.59-.52 0-1.04.2-1.43.59L10.3 9.45l-7.72 7.72c-.78.78-.78 2.05 0 2.83L4 21.41c.39.39.9.59 1.41.59.51 0 1.02-.2 1.41-.59l7.78-7.78 2.81-2.81c.8-.78.8-2.07 0-2.86zM5.41 20L4 18.59l7.72-7.72 1.47 1.35L5.41 20z\"/>\n",
              "  </svg>\n",
              "      </button>\n",
              "      \n",
              "  <style>\n",
              "    .colab-df-container {\n",
              "      display:flex;\n",
              "      flex-wrap:wrap;\n",
              "      gap: 12px;\n",
              "    }\n",
              "\n",
              "    .colab-df-convert {\n",
              "      background-color: #E8F0FE;\n",
              "      border: none;\n",
              "      border-radius: 50%;\n",
              "      cursor: pointer;\n",
              "      display: none;\n",
              "      fill: #1967D2;\n",
              "      height: 32px;\n",
              "      padding: 0 0 0 0;\n",
              "      width: 32px;\n",
              "    }\n",
              "\n",
              "    .colab-df-convert:hover {\n",
              "      background-color: #E2EBFA;\n",
              "      box-shadow: 0px 1px 2px rgba(60, 64, 67, 0.3), 0px 1px 3px 1px rgba(60, 64, 67, 0.15);\n",
              "      fill: #174EA6;\n",
              "    }\n",
              "\n",
              "    [theme=dark] .colab-df-convert {\n",
              "      background-color: #3B4455;\n",
              "      fill: #D2E3FC;\n",
              "    }\n",
              "\n",
              "    [theme=dark] .colab-df-convert:hover {\n",
              "      background-color: #434B5C;\n",
              "      box-shadow: 0px 1px 3px 1px rgba(0, 0, 0, 0.15);\n",
              "      filter: drop-shadow(0px 1px 2px rgba(0, 0, 0, 0.3));\n",
              "      fill: #FFFFFF;\n",
              "    }\n",
              "  </style>\n",
              "\n",
              "      <script>\n",
              "        const buttonEl =\n",
              "          document.querySelector('#df-d3c6692f-c827-44d9-93c1-5dd3a1b9521e button.colab-df-convert');\n",
              "        buttonEl.style.display =\n",
              "          google.colab.kernel.accessAllowed ? 'block' : 'none';\n",
              "\n",
              "        async function convertToInteractive(key) {\n",
              "          const element = document.querySelector('#df-d3c6692f-c827-44d9-93c1-5dd3a1b9521e');\n",
              "          const dataTable =\n",
              "            await google.colab.kernel.invokeFunction('convertToInteractive',\n",
              "                                                     [key], {});\n",
              "          if (!dataTable) return;\n",
              "\n",
              "          const docLinkHtml = 'Like what you see? Visit the ' +\n",
              "            '<a target=\"_blank\" href=https://colab.research.google.com/notebooks/data_table.ipynb>data table notebook</a>'\n",
              "            + ' to learn more about interactive tables.';\n",
              "          element.innerHTML = '';\n",
              "          dataTable['output_type'] = 'display_data';\n",
              "          await google.colab.output.renderOutput(dataTable, element);\n",
              "          const docLink = document.createElement('div');\n",
              "          docLink.innerHTML = docLinkHtml;\n",
              "          element.appendChild(docLink);\n",
              "        }\n",
              "      </script>\n",
              "    </div>\n",
              "  </div>\n",
              "  "
            ]
          },
          "metadata": {},
          "execution_count": 69
        }
      ]
    },
    {
      "cell_type": "code",
      "source": [
        "df.info()"
      ],
      "metadata": {
        "id": "oSJ6pZ4DXhuK",
        "outputId": "903def65-c0d0-4dd4-8a97-088ee6a115bf",
        "colab": {
          "base_uri": "https://localhost:8080/"
        }
      },
      "execution_count": 70,
      "outputs": [
        {
          "output_type": "stream",
          "name": "stdout",
          "text": [
            "<class 'pandas.core.frame.DataFrame'>\n",
            "RangeIndex: 101766 entries, 0 to 101765\n",
            "Data columns (total 50 columns):\n",
            " #   Column                    Non-Null Count   Dtype \n",
            "---  ------                    --------------   ----- \n",
            " 0   encounter_id              101766 non-null  int64 \n",
            " 1   patient_nbr               101766 non-null  int64 \n",
            " 2   race                      99493 non-null   object\n",
            " 3   gender                    101766 non-null  object\n",
            " 4   age                       101766 non-null  object\n",
            " 5   weight                    3197 non-null    object\n",
            " 6   admission_type_id         101766 non-null  int64 \n",
            " 7   discharge_disposition_id  101766 non-null  int64 \n",
            " 8   admission_source_id       101766 non-null  int64 \n",
            " 9   time_in_hospital          101766 non-null  int64 \n",
            " 10  payer_code                61510 non-null   object\n",
            " 11  medical_specialty         51817 non-null   object\n",
            " 12  num_lab_procedures        101766 non-null  int64 \n",
            " 13  num_procedures            101766 non-null  int64 \n",
            " 14  num_medications           101766 non-null  int64 \n",
            " 15  number_outpatient         101766 non-null  int64 \n",
            " 16  number_emergency          101766 non-null  int64 \n",
            " 17  number_inpatient          101766 non-null  int64 \n",
            " 18  diag_1                    101745 non-null  object\n",
            " 19  diag_2                    101408 non-null  object\n",
            " 20  diag_3                    100343 non-null  object\n",
            " 21  number_diagnoses          101766 non-null  int64 \n",
            " 22  max_glu_serum             101766 non-null  object\n",
            " 23  A1Cresult                 101766 non-null  object\n",
            " 24  metformin                 101766 non-null  object\n",
            " 25  repaglinide               101766 non-null  object\n",
            " 26  nateglinide               101766 non-null  object\n",
            " 27  chlorpropamide            101766 non-null  object\n",
            " 28  glimepiride               101766 non-null  object\n",
            " 29  acetohexamide             101766 non-null  object\n",
            " 30  glipizide                 101766 non-null  object\n",
            " 31  glyburide                 101766 non-null  object\n",
            " 32  tolbutamide               101766 non-null  object\n",
            " 33  pioglitazone              101766 non-null  object\n",
            " 34  rosiglitazone             101766 non-null  object\n",
            " 35  acarbose                  101766 non-null  object\n",
            " 36  miglitol                  101766 non-null  object\n",
            " 37  troglitazone              101766 non-null  object\n",
            " 38  tolazamide                101766 non-null  object\n",
            " 39  examide                   101766 non-null  object\n",
            " 40  citoglipton               101766 non-null  object\n",
            " 41  insulin                   101766 non-null  object\n",
            " 42  glyburide-metformin       101766 non-null  object\n",
            " 43  glipizide-metformin       101766 non-null  object\n",
            " 44  glimepiride-pioglitazone  101766 non-null  object\n",
            " 45  metformin-rosiglitazone   101766 non-null  object\n",
            " 46  metformin-pioglitazone    101766 non-null  object\n",
            " 47  change                    101766 non-null  object\n",
            " 48  diabetesMed               101766 non-null  object\n",
            " 49  readmitted                101766 non-null  object\n",
            "dtypes: int64(13), object(37)\n",
            "memory usage: 38.8+ MB\n"
          ]
        }
      ]
    },
    {
      "cell_type": "markdown",
      "source": [
        "# Data Cleaning"
      ],
      "metadata": {
        "id": "4FLiQ00opvjo"
      }
    },
    {
      "cell_type": "code",
      "source": [
        "#drop unused features\n",
        "df.drop([\"encounter_id\", \"patient_nbr\", \"weight\", \"payer_code\", \"medical_specialty\", \"change\", \"diabetesMed\"], axis=1, inplace=True)"
      ],
      "metadata": {
        "id": "NwVzHEIfYx_y"
      },
      "execution_count": 71,
      "outputs": []
    },
    {
      "cell_type": "code",
      "source": [
        "df.dropna(axis=0, inplace=True)"
      ],
      "metadata": {
        "id": "uc3jjKaZZKQo"
      },
      "execution_count": 72,
      "outputs": []
    },
    {
      "cell_type": "code",
      "source": [
        "#process discharge_disposition_id\n",
        "null_li = [18, 25, 26]\n",
        "discharge_li = [11, 19, 20, 21]\n",
        "alive_li = [1,2,3,4,5,6,7,8,9,10,12,13,14,15,16,17,22,23,24,30,27,28,29]  \n",
        "\n",
        "df['discharge_disposition_id']=df.discharge_disposition_id.replace(null_li, \"UNKNOWN\")\n",
        "df['discharge_disposition_id']=df.discharge_disposition_id.replace(discharge_li, \"ALIVE\")\n",
        "df['discharge_disposition_id']=df.discharge_disposition_id.replace(alive_li, \"EXPIRED\")\n",
        "\n",
        "df['discharge_disposition_id'].value_counts()"
      ],
      "metadata": {
        "colab": {
          "base_uri": "https://localhost:8080/"
        },
        "id": "7TjFUOgWaJ4F",
        "outputId": "96702af7-61a4-4209-e6c3-ff6ec23624b4"
      },
      "execution_count": 73,
      "outputs": [
        {
          "output_type": "execute_result",
          "data": {
            "text/plain": [
              "EXPIRED    91872\n",
              "UNKNOWN     4565\n",
              "ALIVE       1616\n",
              "Name: discharge_disposition_id, dtype: int64"
            ]
          },
          "metadata": {},
          "execution_count": 73
        }
      ]
    },
    {
      "cell_type": "code",
      "source": [
        "#process admission_type_id\n",
        "df['admission_type_id']=df.admission_type_id.replace({1:2 , 2:3, 3:4, 4:4, 5:5, 6:5, 7:1, 8:5})\n",
        "df['admission_type_id'].value_counts()"
      ],
      "metadata": {
        "id": "wyp8pGvFa54Y",
        "colab": {
          "base_uri": "https://localhost:8080/"
        },
        "outputId": "2c546ebc-60ec-47c3-daa9-7cc049d52fdc"
      },
      "execution_count": 74,
      "outputs": [
        {
          "output_type": "execute_result",
          "data": {
            "text/plain": [
              "2    52178\n",
              "4    18204\n",
              "3    17543\n",
              "5    10108\n",
              "1       20\n",
              "Name: admission_type_id, dtype: int64"
            ]
          },
          "metadata": {},
          "execution_count": 74
        }
      ]
    },
    {
      "cell_type": "code",
      "source": [
        "#process readmitted\n",
        "df['readmitted']=df.readmitted.replace({'NO': 0 , '>30': 1, '<30': 2})\n",
        "df['readmitted'].value_counts()"
      ],
      "metadata": {
        "id": "kx99-3uRpMxA",
        "outputId": "008f2f68-6787-4fe0-de9d-65630f02b610",
        "colab": {
          "base_uri": "https://localhost:8080/"
        }
      },
      "execution_count": 75,
      "outputs": [
        {
          "output_type": "execute_result",
          "data": {
            "text/plain": [
              "0    52338\n",
              "1    34649\n",
              "2    11066\n",
              "Name: readmitted, dtype: int64"
            ]
          },
          "metadata": {},
          "execution_count": 75
        }
      ]
    },
    {
      "cell_type": "code",
      "source": [
        "#process age\n",
        "df['age']=df.age.replace({'[0-10)':0,'[10-20)':1, '[20-30)':2, '[30-40)':3, '[40-50)':4, '[50-60)':5,\n",
        "       '[60-70)':6, '[70-80)':7, '[80-90)':8, '[90-100)':9})\n",
        "df['age'].value_counts()"
      ],
      "metadata": {
        "id": "h9oyWVv6pYTP",
        "outputId": "4e319082-09d2-48a8-9837-c8537086e32e",
        "colab": {
          "base_uri": "https://localhost:8080/"
        }
      },
      "execution_count": 76,
      "outputs": [
        {
          "output_type": "execute_result",
          "data": {
            "text/plain": [
              "7    25306\n",
              "6    21809\n",
              "8    16702\n",
              "5    16697\n",
              "4     9265\n",
              "3     3548\n",
              "9     2717\n",
              "2     1478\n",
              "1      466\n",
              "0       65\n",
              "Name: age, dtype: int64"
            ]
          },
          "metadata": {},
          "execution_count": 76
        }
      ]
    },
    {
      "cell_type": "code",
      "source": [
        "#process admission_source_id\n",
        "df['admission_source_id'] = df.admission_source_id.replace([1,2,3],'Referral')\n",
        "df['admission_source_id'] = df.admission_source_id.replace([4,5,6,10,18,22,25,26],'Transfer')\n",
        "df['admission_source_id'] = df.admission_source_id.replace([9,15,17,20,21],'Unknown')\n",
        "df['admission_source_id'] = df.admission_source_id.replace([11,12,13,14,23,24],'New_Born')\n",
        "df['admission_source_id'] = df.admission_source_id.replace({7:'ER', 8:'CLE', 19:'Readmission'})\n",
        "df['admission_source_id'].value_counts()"
      ],
      "metadata": {
        "id": "qLVmKsdgwDAU",
        "outputId": "9252564b-a744-40d0-a22e-80fe4bba4438",
        "colab": {
          "base_uri": "https://localhost:8080/"
        }
      },
      "execution_count": 77,
      "outputs": [
        {
          "output_type": "execute_result",
          "data": {
            "text/plain": [
              "ER          55951\n",
              "Referral    29566\n",
              "Unknown      6811\n",
              "Transfer     5705\n",
              "CLE            15\n",
              "New_Born        5\n",
              "Name: admission_source_id, dtype: int64"
            ]
          },
          "metadata": {},
          "execution_count": 77
        }
      ]
    },
    {
      "cell_type": "code",
      "source": [
        "#diagnosis 1\n",
        "mask = {'428':'Congestive heart failure','414': 'Dissection of aorta',\\\n",
        "                                '786':'Respiratory abnormality','410':'Acute myocardial infarction of anterolateral wall',\\\n",
        "                                '486':'Pneumonia','427':'Paroxysmal supraventricular tachycardia','491':'Simple chronic bronchitis',\\\n",
        "                                '715':'Osteoarthrosis','682':'Cellulitis and abscess of face',\\\n",
        "                                '434':'Cerebral thrombosis without mention of cerebral infarction'\n",
        "                                }\n",
        "df['diag_1']=df.diag_1.replace(mask)\n",
        "labels = list(df.diag_1.unique())\n",
        "new_label = [x for x in labels if x not in mask.values()]\n",
        "df['diag_1'] = df.diag_1.replace(new_label,'Others')\n",
        "df.diag_1.value_counts()"
      ],
      "metadata": {
        "id": "14XaBpaC6OgS",
        "outputId": "55e5e67e-1ebe-41f9-fe13-d2059f70f9a1",
        "colab": {
          "base_uri": "https://localhost:8080/"
        }
      },
      "execution_count": 78,
      "outputs": [
        {
          "output_type": "execute_result",
          "data": {
            "text/plain": [
              "Others                                                        63190\n",
              "Congestive heart failure                                       6730\n",
              "Dissection of aorta                                            6374\n",
              "Respiratory abnormality                                        3900\n",
              "Acute myocardial infarction of anterolateral wall              3514\n",
              "Pneumonia                                                      3412\n",
              "Paroxysmal supraventricular tachycardia                        2701\n",
              "Simple chronic bronchitis                                      2210\n",
              "Osteoarthrosis                                                 2073\n",
              "Cerebral thrombosis without mention of cerebral infarction     1983\n",
              "Cellulitis and abscess of face                                 1966\n",
              "Name: diag_1, dtype: int64"
            ]
          },
          "metadata": {},
          "execution_count": 78
        }
      ]
    },
    {
      "cell_type": "code",
      "source": [
        "# diagnosis 2\n",
        "diag_2_df = df.groupby('diag_2').size().to_frame()\n",
        "diag_2_df.columns = ['count']\n",
        "diag_2_df['count'].nlargest(n=10)"
      ],
      "metadata": {
        "id": "gA-UqgTR_vBF",
        "outputId": "9d7434c1-673c-4d7f-e6dd-132e34ea17b7",
        "colab": {
          "base_uri": "https://localhost:8080/"
        }
      },
      "execution_count": 79,
      "outputs": [
        {
          "output_type": "execute_result",
          "data": {
            "text/plain": [
              "diag_2\n",
              "428    6517\n",
              "276    6513\n",
              "250    5412\n",
              "427    4919\n",
              "401    3613\n",
              "496    3233\n",
              "599    3225\n",
              "403    2781\n",
              "414    2574\n",
              "411    2496\n",
              "Name: count, dtype: int64"
            ]
          },
          "metadata": {},
          "execution_count": 79
        }
      ]
    },
    {
      "cell_type": "code",
      "source": [
        "mask2 = {'276':'Hyperosmolality and/or hypernatremia','428': 'Congestive heart failure',\\\n",
        "                                '250':'Diabetes mellitus without mention of complication','427':'Paroxysmal supraventricular tachycardia',\\\n",
        "                                '401':'Malignant essential hypertension','496':'Chronic airway obstruction',\\\n",
        "                                '599':'Urinary tract infection','403':'Hypertensive chronic kidney disease',\\\n",
        "                                '414':'Coronary atherosclerosis of unspecified type of vessel',\\\n",
        "                                '411':'Postmyocardial infarction syndrome'\n",
        "                                }\n",
        "df['diag_2']=df.diag_2.replace(mask2)\n",
        "labels2 = list(df.diag_2.unique())\n",
        "new_label2 = [x for x in labels2 if x not in mask2.values()]\n",
        "df['diag_2'] = df.diag_2.replace(new_label2,'Others')\n",
        "df.diag_2.value_counts()"
      ],
      "metadata": {
        "id": "XYBoJPzr_y0U",
        "outputId": "6970af47-ff15-4483-df70-2a48e4628f37",
        "colab": {
          "base_uri": "https://localhost:8080/"
        }
      },
      "execution_count": 80,
      "outputs": [
        {
          "output_type": "execute_result",
          "data": {
            "text/plain": [
              "Others                                                    56770\n",
              "Congestive heart failure                                   6517\n",
              "Hyperosmolality and/or hypernatremia                       6513\n",
              "Diabetes mellitus without mention of complication          5412\n",
              "Paroxysmal supraventricular tachycardia                    4919\n",
              "Malignant essential hypertension                           3613\n",
              "Chronic airway obstruction                                 3233\n",
              "Urinary tract infection                                    3225\n",
              "Hypertensive chronic kidney disease                        2781\n",
              "Coronary atherosclerosis of unspecified type of vessel     2574\n",
              "Postmyocardial infarction syndrome                         2496\n",
              "Name: diag_2, dtype: int64"
            ]
          },
          "metadata": {},
          "execution_count": 80
        }
      ]
    },
    {
      "cell_type": "code",
      "source": [
        "# Diagnosis 3\n",
        "diag_3_df = df.groupby('diag_3').size().to_frame()\n",
        "diag_3_df.columns = ['count']\n",
        "diag_3_df['count'].nlargest(n=10)"
      ],
      "metadata": {
        "id": "DWPbP4_C_4su",
        "outputId": "8ba8eeba-7510-46ce-81c7-a179235e3a67",
        "colab": {
          "base_uri": "https://localhost:8080/"
        }
      },
      "execution_count": 81,
      "outputs": [
        {
          "output_type": "execute_result",
          "data": {
            "text/plain": [
              "diag_3\n",
              "250    11208\n",
              "401     8090\n",
              "276     5097\n",
              "428     4491\n",
              "427     3865\n",
              "414     3567\n",
              "496     2552\n",
              "403     2322\n",
              "585     1949\n",
              "272     1910\n",
              "Name: count, dtype: int64"
            ]
          },
          "metadata": {},
          "execution_count": 81
        }
      ]
    },
    {
      "cell_type": "code",
      "source": [
        "mask3 = {'276':'Hyperosmolality and/or hypernatremia','428': 'Congestive heart failure',\\\n",
        "                                '250':'Diabetes mellitus without mention of complication','427':'Paroxysmal supraventricular tachycardia',\\\n",
        "                                '401':'Malignant essential hypertension','496':'Chronic airway obstruction',\\\n",
        "                                '403':'Hypertensive chronic kidney disease',\\\n",
        "                                '414':'Coronary atherosclerosis of unspecified type of vessel',\\\n",
        "                                '585':'Chronic kidney disease',\\\n",
        "                                '272':'Pure hypercholesterolemia'\n",
        "\n",
        "                                }\n",
        "df['diag_3']=df.diag_3.replace(mask3)\n",
        "labels3 = list(df.diag_3.unique())\n",
        "new_label3 = [x for x in labels3 if x not in mask3.values()]\n",
        "df['diag_3'] = df.diag_3.replace(new_label3,'Others')\n",
        "df.diag_3.value_counts()"
      ],
      "metadata": {
        "id": "wduitS5q_9uW",
        "outputId": "cc8d93df-ad01-407a-ba0a-aed50cfedfaf",
        "colab": {
          "base_uri": "https://localhost:8080/"
        }
      },
      "execution_count": 82,
      "outputs": [
        {
          "output_type": "execute_result",
          "data": {
            "text/plain": [
              "Others                                                    53002\n",
              "Diabetes mellitus without mention of complication         11208\n",
              "Malignant essential hypertension                           8090\n",
              "Hyperosmolality and/or hypernatremia                       5097\n",
              "Congestive heart failure                                   4491\n",
              "Paroxysmal supraventricular tachycardia                    3865\n",
              "Coronary atherosclerosis of unspecified type of vessel     3567\n",
              "Chronic airway obstruction                                 2552\n",
              "Hypertensive chronic kidney disease                        2322\n",
              "Chronic kidney disease                                     1949\n",
              "Pure hypercholesterolemia                                  1910\n",
              "Name: diag_3, dtype: int64"
            ]
          },
          "metadata": {},
          "execution_count": 82
        }
      ]
    },
    {
      "cell_type": "code",
      "source": [
        "df[['diag_1','diag_2','diag_3']]"
      ],
      "metadata": {
        "id": "tixywLe9ADiM",
        "outputId": "57d3f655-c377-4194-ac9e-7f28e5b76f66",
        "colab": {
          "base_uri": "https://localhost:8080/",
          "height": 423
        }
      },
      "execution_count": 83,
      "outputs": [
        {
          "output_type": "execute_result",
          "data": {
            "text/plain": [
              "                     diag_1  \\\n",
              "1                    Others   \n",
              "2                    Others   \n",
              "3                    Others   \n",
              "4                    Others   \n",
              "5       Dissection of aorta   \n",
              "...                     ...   \n",
              "101761               Others   \n",
              "101762               Others   \n",
              "101763               Others   \n",
              "101764               Others   \n",
              "101765               Others   \n",
              "\n",
              "                                                   diag_2  \\\n",
              "1                                                  Others   \n",
              "2       Diabetes mellitus without mention of complication   \n",
              "3                                                  Others   \n",
              "4                                                  Others   \n",
              "5                      Postmyocardial infarction syndrome   \n",
              "...                                                   ...   \n",
              "101761                                             Others   \n",
              "101762               Hyperosmolality and/or hypernatremia   \n",
              "101763                                             Others   \n",
              "101764                                             Others   \n",
              "101765                                             Others   \n",
              "\n",
              "                                                   diag_3  \n",
              "1                                                  Others  \n",
              "2                                                  Others  \n",
              "3                     Hypertensive chronic kidney disease  \n",
              "4       Diabetes mellitus without mention of complication  \n",
              "5       Diabetes mellitus without mention of complication  \n",
              "...                                                   ...  \n",
              "101761                                             Others  \n",
              "101762                                             Others  \n",
              "101763                                             Others  \n",
              "101764                                             Others  \n",
              "101765                                             Others  \n",
              "\n",
              "[98053 rows x 3 columns]"
            ],
            "text/html": [
              "\n",
              "  <div id=\"df-034f913e-5c82-4282-821a-3b77b29169a6\">\n",
              "    <div class=\"colab-df-container\">\n",
              "      <div>\n",
              "<style scoped>\n",
              "    .dataframe tbody tr th:only-of-type {\n",
              "        vertical-align: middle;\n",
              "    }\n",
              "\n",
              "    .dataframe tbody tr th {\n",
              "        vertical-align: top;\n",
              "    }\n",
              "\n",
              "    .dataframe thead th {\n",
              "        text-align: right;\n",
              "    }\n",
              "</style>\n",
              "<table border=\"1\" class=\"dataframe\">\n",
              "  <thead>\n",
              "    <tr style=\"text-align: right;\">\n",
              "      <th></th>\n",
              "      <th>diag_1</th>\n",
              "      <th>diag_2</th>\n",
              "      <th>diag_3</th>\n",
              "    </tr>\n",
              "  </thead>\n",
              "  <tbody>\n",
              "    <tr>\n",
              "      <th>1</th>\n",
              "      <td>Others</td>\n",
              "      <td>Others</td>\n",
              "      <td>Others</td>\n",
              "    </tr>\n",
              "    <tr>\n",
              "      <th>2</th>\n",
              "      <td>Others</td>\n",
              "      <td>Diabetes mellitus without mention of complication</td>\n",
              "      <td>Others</td>\n",
              "    </tr>\n",
              "    <tr>\n",
              "      <th>3</th>\n",
              "      <td>Others</td>\n",
              "      <td>Others</td>\n",
              "      <td>Hypertensive chronic kidney disease</td>\n",
              "    </tr>\n",
              "    <tr>\n",
              "      <th>4</th>\n",
              "      <td>Others</td>\n",
              "      <td>Others</td>\n",
              "      <td>Diabetes mellitus without mention of complication</td>\n",
              "    </tr>\n",
              "    <tr>\n",
              "      <th>5</th>\n",
              "      <td>Dissection of aorta</td>\n",
              "      <td>Postmyocardial infarction syndrome</td>\n",
              "      <td>Diabetes mellitus without mention of complication</td>\n",
              "    </tr>\n",
              "    <tr>\n",
              "      <th>...</th>\n",
              "      <td>...</td>\n",
              "      <td>...</td>\n",
              "      <td>...</td>\n",
              "    </tr>\n",
              "    <tr>\n",
              "      <th>101761</th>\n",
              "      <td>Others</td>\n",
              "      <td>Others</td>\n",
              "      <td>Others</td>\n",
              "    </tr>\n",
              "    <tr>\n",
              "      <th>101762</th>\n",
              "      <td>Others</td>\n",
              "      <td>Hyperosmolality and/or hypernatremia</td>\n",
              "      <td>Others</td>\n",
              "    </tr>\n",
              "    <tr>\n",
              "      <th>101763</th>\n",
              "      <td>Others</td>\n",
              "      <td>Others</td>\n",
              "      <td>Others</td>\n",
              "    </tr>\n",
              "    <tr>\n",
              "      <th>101764</th>\n",
              "      <td>Others</td>\n",
              "      <td>Others</td>\n",
              "      <td>Others</td>\n",
              "    </tr>\n",
              "    <tr>\n",
              "      <th>101765</th>\n",
              "      <td>Others</td>\n",
              "      <td>Others</td>\n",
              "      <td>Others</td>\n",
              "    </tr>\n",
              "  </tbody>\n",
              "</table>\n",
              "<p>98053 rows × 3 columns</p>\n",
              "</div>\n",
              "      <button class=\"colab-df-convert\" onclick=\"convertToInteractive('df-034f913e-5c82-4282-821a-3b77b29169a6')\"\n",
              "              title=\"Convert this dataframe to an interactive table.\"\n",
              "              style=\"display:none;\">\n",
              "        \n",
              "  <svg xmlns=\"http://www.w3.org/2000/svg\" height=\"24px\"viewBox=\"0 0 24 24\"\n",
              "       width=\"24px\">\n",
              "    <path d=\"M0 0h24v24H0V0z\" fill=\"none\"/>\n",
              "    <path d=\"M18.56 5.44l.94 2.06.94-2.06 2.06-.94-2.06-.94-.94-2.06-.94 2.06-2.06.94zm-11 1L8.5 8.5l.94-2.06 2.06-.94-2.06-.94L8.5 2.5l-.94 2.06-2.06.94zm10 10l.94 2.06.94-2.06 2.06-.94-2.06-.94-.94-2.06-.94 2.06-2.06.94z\"/><path d=\"M17.41 7.96l-1.37-1.37c-.4-.4-.92-.59-1.43-.59-.52 0-1.04.2-1.43.59L10.3 9.45l-7.72 7.72c-.78.78-.78 2.05 0 2.83L4 21.41c.39.39.9.59 1.41.59.51 0 1.02-.2 1.41-.59l7.78-7.78 2.81-2.81c.8-.78.8-2.07 0-2.86zM5.41 20L4 18.59l7.72-7.72 1.47 1.35L5.41 20z\"/>\n",
              "  </svg>\n",
              "      </button>\n",
              "      \n",
              "  <style>\n",
              "    .colab-df-container {\n",
              "      display:flex;\n",
              "      flex-wrap:wrap;\n",
              "      gap: 12px;\n",
              "    }\n",
              "\n",
              "    .colab-df-convert {\n",
              "      background-color: #E8F0FE;\n",
              "      border: none;\n",
              "      border-radius: 50%;\n",
              "      cursor: pointer;\n",
              "      display: none;\n",
              "      fill: #1967D2;\n",
              "      height: 32px;\n",
              "      padding: 0 0 0 0;\n",
              "      width: 32px;\n",
              "    }\n",
              "\n",
              "    .colab-df-convert:hover {\n",
              "      background-color: #E2EBFA;\n",
              "      box-shadow: 0px 1px 2px rgba(60, 64, 67, 0.3), 0px 1px 3px 1px rgba(60, 64, 67, 0.15);\n",
              "      fill: #174EA6;\n",
              "    }\n",
              "\n",
              "    [theme=dark] .colab-df-convert {\n",
              "      background-color: #3B4455;\n",
              "      fill: #D2E3FC;\n",
              "    }\n",
              "\n",
              "    [theme=dark] .colab-df-convert:hover {\n",
              "      background-color: #434B5C;\n",
              "      box-shadow: 0px 1px 3px 1px rgba(0, 0, 0, 0.15);\n",
              "      filter: drop-shadow(0px 1px 2px rgba(0, 0, 0, 0.3));\n",
              "      fill: #FFFFFF;\n",
              "    }\n",
              "  </style>\n",
              "\n",
              "      <script>\n",
              "        const buttonEl =\n",
              "          document.querySelector('#df-034f913e-5c82-4282-821a-3b77b29169a6 button.colab-df-convert');\n",
              "        buttonEl.style.display =\n",
              "          google.colab.kernel.accessAllowed ? 'block' : 'none';\n",
              "\n",
              "        async function convertToInteractive(key) {\n",
              "          const element = document.querySelector('#df-034f913e-5c82-4282-821a-3b77b29169a6');\n",
              "          const dataTable =\n",
              "            await google.colab.kernel.invokeFunction('convertToInteractive',\n",
              "                                                     [key], {});\n",
              "          if (!dataTable) return;\n",
              "\n",
              "          const docLinkHtml = 'Like what you see? Visit the ' +\n",
              "            '<a target=\"_blank\" href=https://colab.research.google.com/notebooks/data_table.ipynb>data table notebook</a>'\n",
              "            + ' to learn more about interactive tables.';\n",
              "          element.innerHTML = '';\n",
              "          dataTable['output_type'] = 'display_data';\n",
              "          await google.colab.output.renderOutput(dataTable, element);\n",
              "          const docLink = document.createElement('div');\n",
              "          docLink.innerHTML = docLinkHtml;\n",
              "          element.appendChild(docLink);\n",
              "        }\n",
              "      </script>\n",
              "    </div>\n",
              "  </div>\n",
              "  "
            ]
          },
          "metadata": {},
          "execution_count": 83
        }
      ]
    },
    {
      "cell_type": "code",
      "source": [
        "dffinal=df.copy()"
      ],
      "metadata": {
        "id": "L5PRZcBoYY6r"
      },
      "execution_count": 84,
      "outputs": []
    },
    {
      "cell_type": "markdown",
      "source": [
        "# Feature Grouping & Target Selection"
      ],
      "metadata": {
        "id": "4126mgTLp8e2"
      }
    },
    {
      "cell_type": "code",
      "source": [
        "#cluster into [Treatment, Outcome, Demographic]\n",
        "category = {'Treatment':['admission_type_id','metformin','repaglinide','nateglinide','chlorpropamide','glimepiride','acetohexamide','glipizide','glyburide','tolbutamide','pioglitazone','rosiglitazone','acarbose','miglitol','troglitazone','tolazamide','examide','citoglipton','insulin','glyburide-metformin','glipizide-metformin','glimepiride-pioglitazone','metformin-rosiglitazone','metformin-pioglitazone'], \n",
        "            'Demographic':['race', 'gender', 'age', 'admission_source_id','diag_1','diag_2','diag_3','number_diagnoses','max_glu_serum','A1Cresult','num_lab_procedures','num_procedures','num_medications'],\n",
        "            'Outcome':['discharge_disposition_id','time_in_hospital', 'number_outpatient','number_emergency','number_inpatient','readmitted']}"
      ],
      "metadata": {
        "id": "mDD1cbfTpL8d"
      },
      "execution_count": 85,
      "outputs": []
    },
    {
      "cell_type": "code",
      "source": [
        "df=dffinal.copy()\n",
        "outcome_name = \"readmitted\" #CHANGE THIS FOR OTHER PREDICTIVE TASKS\n",
        "continuous_features = ['age', 'num_lab_procedures','num_procedures','num_medications','number_diagnoses']\n",
        "for col in list(df.columns):\n",
        "  if col not in continuous_features:\n",
        "    if col!=outcome_name:\n",
        "      df[col] = df[col].astype(str)\n",
        "target = df[outcome_name]\n",
        "dropdf = df.drop(category[\"Outcome\"], axis=1)\n",
        "dropdf[outcome_name]=df[outcome_name]\n",
        "\n",
        "# Split data into train and test for later use in counterfactuals\n",
        "datasetX = dropdf.drop(outcome_name, axis=1)\n",
        "dropdf=dropdf.copy()\n",
        "x_train, x_test, y_train, y_test = train_test_split(datasetX,\n",
        "                                                    target,\n",
        "                                                    test_size=0.2,\n",
        "                                                    random_state=0,\n",
        "                                                    stratify=target)\n",
        "\n",
        "categorical_features = x_train.columns.difference(continuous_features)"
      ],
      "metadata": {
        "id": "FDFCVkoMA_2S"
      },
      "execution_count": 89,
      "outputs": []
    },
    {
      "cell_type": "code",
      "source": [
        "from sklearn.preprocessing import LabelEncoder\n",
        "from sklearn.preprocessing import OneHotEncoder\n",
        "clusteringdf=df[category[\"Outcome\"]]\n",
        "encoder=preprocessing.LabelEncoder()\n",
        "\n",
        "df = pd.get_dummies(data, columns = categorical_features)\n",
        "for col in df.columns:\n",
        "  df[col] = encoder.fit_transform(df[col])\n"
      ],
      "metadata": {
        "id": "4Hu3-V-nT7j1"
      },
      "execution_count": 107,
      "outputs": []
    },
    {
      "cell_type": "code",
      "source": [
        "import matplotlib.pyplot as plt\n",
        "from sklearn.cluster import KMeans\n",
        "import seaborn as sns\n",
        "numslice=3000\n",
        "dfslice=df.iloc[:numslice,:]\n",
        "dropdfslice=dffinal.iloc[:numslice,:]\n",
        "kmeans = KMeans(n_clusters=5, random_state=0).fit(dfslice)\n",
        "tsne = TSNE(n_components=2, verbose=1, perplexity=2, n_iter=5000)\n",
        "tsne_result = tsne.fit_transform(dfslice)\n",
        "resdf=pd.DataFrame()\n",
        "resdf['dim1'] = tsne_result[:,0]\n",
        "resdf['dim2'] = tsne_result[:,1] \n",
        "# resdf['class'] = dropdfslice[\"readmitted\"]\n",
        "resdf['class'] = kmeans.labels_\n",
        "palette=[\"#DC267F\", \"#785EF0\", \"#648FFF\", \"#FFB000\", \"#FE6100\"]\n",
        "palette=palette[:resdf[\"class\"].nunique()]\n",
        "# print(resdf[\"class\"].nunique())\n",
        "# print(palette)\n",
        "plt.figure(figsize=(7.5,7.5))\n",
        "ax=sns.scatterplot(\n",
        "    x=\"dim1\", y=\"dim2\",\n",
        "    hue=\"class\",\n",
        "#     palette=sns.color_palette(\"hls\", 20),\n",
        "    # \n",
        "    palette=palette,\n",
        "    data=resdf,\n",
        "    # legend=\"off\",\n",
        "    alpha=1,\n",
        "    s=10\n",
        ")\n",
        "    # ax.set_title(title)\n",
        "ax.legend(labelspacing=0.1,handletextpad=0.1,markerscale=1.4,fontsize='xx-large',frameon=False)\n",
        "ax.spines['right'].set_visible(False)\n",
        "ax.spines['top'].set_visible(False)\n",
        "ax.set_xlabel(\"T-SNE Dim1\")\n",
        "ax.set_ylabel(\"T-SNE Dim2\")\n",
        "plt.setp(ax.get_legend().get_texts(), fontsize='10') # for legend text\n",
        "plt.setp(ax.get_legend().get_title(), fontsize='12') # for legend title\n",
        "plt.show()"
      ],
      "metadata": {
        "colab": {
          "base_uri": "https://localhost:8080/",
          "height": 695
        },
        "id": "S2s-6MkAX-T0",
        "outputId": "15429171-ce51-4699-a40c-05dbee24a88c"
      },
      "execution_count": 132,
      "outputs": [
        {
          "output_type": "stream",
          "name": "stderr",
          "text": [
            "/usr/local/lib/python3.7/dist-packages/sklearn/manifold/_t_sne.py:783: FutureWarning: The default initialization in TSNE will change from 'random' to 'pca' in 1.2.\n",
            "  FutureWarning,\n",
            "/usr/local/lib/python3.7/dist-packages/sklearn/manifold/_t_sne.py:793: FutureWarning: The default learning rate in TSNE will change from 200.0 to 'auto' in 1.2.\n",
            "  FutureWarning,\n"
          ]
        },
        {
          "output_type": "stream",
          "name": "stdout",
          "text": [
            "[t-SNE] Computing 7 nearest neighbors...\n",
            "[t-SNE] Indexed 3000 samples in 0.007s...\n",
            "[t-SNE] Computed neighbors for 3000 samples in 0.508s...\n",
            "[t-SNE] Computed conditional probabilities for sample 1000 / 3000\n",
            "[t-SNE] Computed conditional probabilities for sample 2000 / 3000\n",
            "[t-SNE] Computed conditional probabilities for sample 3000 / 3000\n",
            "[t-SNE] Mean sigma: 0.642387\n",
            "[t-SNE] KL divergence after 250 iterations with early exaggeration: 85.206955\n",
            "[t-SNE] KL divergence after 5000 iterations: 0.808921\n"
          ]
        },
        {
          "output_type": "display_data",
          "data": {
            "text/plain": [
              "<Figure size 540x540 with 1 Axes>"
            ],
            "image/png": "[encoded data removed]"
          },
          "metadata": {
            "needs_background": "light"
          }
        }
      ]
    },
    {
      "cell_type": "markdown",
      "source": [
        "# AutoML Fitting"
      ],
      "metadata": {
        "id": "9b40LWi_Bm1j"
      }
    },
    {
      "cell_type": "code",
      "source": [
        "train_data, test_data, _, _ = train_test_split(dropdf,target,test_size=0.2,random_state=0,stratify=target)\n",
        "predictor = TabularPredictor(label=outcome_name).fit(train_data=train_data)\n",
        "predictions = predictor.predict(test_data)"
      ],
      "metadata": {
        "colab": {
          "base_uri": "https://localhost:8080/"
        },
        "id": "hbc2J01EBRCH",
        "outputId": "bb8e9f46-167f-43c9-9d0e-cdedc5b901f5"
      },
      "execution_count": 34,
      "outputs": [
        {
          "output_type": "stream",
          "name": "stderr",
          "text": [
            "No path specified. Models will be saved in: \"AutogluonModels/ag-20220409_162941/\"\n",
            "Warning: Training may take a very long time because `time_limit` was not specified and `train_data` is large (78442 samples, 164.2 MB).\n",
            "\tConsider setting `time_limit` to ensure training finishes within an expected duration or experiment with a small portion of `train_data` to identify an ideal `presets` and `hyperparameters` configuration.\n",
            "Beginning AutoGluon training ...\n",
            "AutoGluon will save models to \"AutogluonModels/ag-20220409_162941/\"\n",
            "AutoGluon Version:  0.4.0\n",
            "Python Version:     3.7.13\n",
            "Operating System:   Linux\n",
            "Train Data Rows:    78442\n",
            "Train Data Columns: 37\n",
            "Label Column: discharge_disposition_id\n",
            "Preprocessing data ...\n",
            "AutoGluon infers your prediction problem is: 'multiclass' (because dtype of label-column == object).\n",
            "\t3 unique label values:  ['EXPIRED', 'ALIVE', 'UNKNOWN']\n",
            "\tIf 'multiclass' is not the correct problem_type, please manually specify the problem_type parameter during predictor init (You may specify problem_type as one of: ['binary', 'multiclass', 'regression'])\n",
            "Train Data Class Count: 3\n",
            "Using Feature Generators to preprocess the data ...\n",
            "Fitting AutoMLPipelineFeatureGenerator...\n",
            "\tAvailable Memory:                    10978.35 MB\n",
            "\tTrain Data (Original)  Memory Usage: 156.45 MB (1.4% of available memory)\n",
            "\tInferring data type of each feature based on column values. Set feature_metadata_in to manually specify special dtypes of the features.\n",
            "\tStage 1 Generators:\n",
            "\t\tFitting AsTypeFeatureGenerator...\n",
            "\t\t\tNote: Converting 6 features to boolean dtype as they only contain 2 unique values.\n",
            "\tStage 2 Generators:\n",
            "\t\tFitting FillNaFeatureGenerator...\n",
            "\tStage 3 Generators:\n",
            "\t\tFitting IdentityFeatureGenerator...\n",
            "\t\tFitting CategoryFeatureGenerator...\n",
            "\t\t\tFitting CategoryMemoryMinimizeFeatureGenerator...\n",
            "\tStage 4 Generators:\n",
            "\t\tFitting DropUniqueFeatureGenerator...\n",
            "\tUseless Original Features (Count: 4): ['examide', 'citoglipton', 'glimepiride-pioglitazone', 'metformin-rosiglitazone']\n",
            "\t\tThese features carry no predictive signal and should be manually investigated.\n",
            "\t\tThis is typically a feature which has the same value for all rows.\n",
            "\t\tThese features do not need to be present at inference time.\n",
            "\tTypes of features in original data (raw dtype, special dtypes):\n",
            "\t\t('int', [])    :  5 | ['age', 'num_lab_procedures', 'num_procedures', 'num_medications', 'number_diagnoses']\n",
            "\t\t('object', []) : 28 | ['race', 'gender', 'admission_type_id', 'admission_source_id', 'diag_1', ...]\n",
            "\tTypes of features in processed data (raw dtype, special dtypes):\n",
            "\t\t('category', [])  : 22 | ['race', 'gender', 'admission_type_id', 'admission_source_id', 'diag_1', ...]\n",
            "\t\t('int', [])       :  5 | ['age', 'num_lab_procedures', 'num_procedures', 'num_medications', 'number_diagnoses']\n",
            "\t\t('int', ['bool']) :  6 | ['acetohexamide', 'tolbutamide', 'troglitazone', 'tolazamide', 'glipizide-metformin', ...]\n",
            "\t1.8s = Fit runtime\n",
            "\t33 features in original data used to generate 33 features in processed data.\n",
            "\tTrain Data (Processed) Memory Usage: 5.34 MB (0.0% of available memory)\n",
            "Data preprocessing and feature engineering runtime = 2.21s ...\n",
            "AutoGluon will gauge predictive performance using evaluation metric: 'accuracy'\n",
            "\tTo change this, specify the eval_metric parameter of Predictor()\n",
            "Automatically generating train/validation split with holdout_frac=0.03187068152265368, Train Rows: 75942, Val Rows: 2500\n",
            "Fitting 13 L1 models ...\n",
            "Fitting model: KNeighborsUnif ...\n",
            "\t0.9344\t = Validation score   (accuracy)\n",
            "\t0.1s\t = Training   runtime\n",
            "\t0.11s\t = Validation runtime\n",
            "Fitting model: KNeighborsDist ...\n",
            "\t0.9184\t = Validation score   (accuracy)\n",
            "\t0.12s\t = Training   runtime\n",
            "\t0.11s\t = Validation runtime\n",
            "Fitting model: NeuralNetFastAI ...\n",
            "No improvement since epoch 7: early stopping\n",
            "\t0.9384\t = Validation score   (accuracy)\n",
            "\t126.52s\t = Training   runtime\n",
            "\t0.08s\t = Validation runtime\n",
            "Fitting model: LightGBMXT ...\n",
            "\t0.9372\t = Validation score   (accuracy)\n",
            "\t2.67s\t = Training   runtime\n",
            "\t0.02s\t = Validation runtime\n",
            "Fitting model: LightGBM ...\n",
            "\t0.9372\t = Validation score   (accuracy)\n",
            "\t2.57s\t = Training   runtime\n",
            "\t0.02s\t = Validation runtime\n",
            "Fitting model: RandomForestGini ...\n",
            "\t0.9368\t = Validation score   (accuracy)\n",
            "\t32.12s\t = Training   runtime\n",
            "\t0.31s\t = Validation runtime\n",
            "Fitting model: RandomForestEntr ...\n",
            "\t0.9376\t = Validation score   (accuracy)\n",
            "\t34.21s\t = Training   runtime\n",
            "\t0.31s\t = Validation runtime\n",
            "Fitting model: CatBoost ...\n",
            "\t0.9372\t = Validation score   (accuracy)\n",
            "\t44.52s\t = Training   runtime\n",
            "\t0.04s\t = Validation runtime\n",
            "Fitting model: ExtraTreesGini ...\n",
            "\t0.9364\t = Validation score   (accuracy)\n",
            "\t33.08s\t = Training   runtime\n",
            "\t0.41s\t = Validation runtime\n",
            "Fitting model: ExtraTreesEntr ...\n",
            "\t0.9368\t = Validation score   (accuracy)\n",
            "\t33.84s\t = Training   runtime\n",
            "\t0.41s\t = Validation runtime\n",
            "Fitting model: XGBoost ...\n",
            "\t0.9372\t = Validation score   (accuracy)\n",
            "\t3.74s\t = Training   runtime\n",
            "\t0.03s\t = Validation runtime\n",
            "Fitting model: NeuralNetTorch ...\n",
            "\t0.9384\t = Validation score   (accuracy)\n",
            "\t268.13s\t = Training   runtime\n",
            "\t0.12s\t = Validation runtime\n",
            "Fitting model: LightGBMLarge ...\n",
            "\t0.9372\t = Validation score   (accuracy)\n",
            "\t2.48s\t = Training   runtime\n",
            "\t0.02s\t = Validation runtime\n",
            "Fitting model: WeightedEnsemble_L2 ...\n",
            "\t0.9388\t = Validation score   (accuracy)\n",
            "\t0.62s\t = Training   runtime\n",
            "\t0.0s\t = Validation runtime\n",
            "AutoGluon training complete, total runtime = 638.01s ... Best model: \"WeightedEnsemble_L2\"\n",
            "TabularPredictor saved. To load, use: predictor = TabularPredictor.load(\"AutogluonModels/ag-20220409_162941/\")\n"
          ]
        }
      ]
    },
    {
      "cell_type": "code",
      "source": [
        "class predictor_wrapper_class(object):\n",
        "    def __init__(self, predictor):\n",
        "        self.predictor = predictor\n",
        "    def predict_proba(self, x):\n",
        "        return self.predictor.predict_proba(x).values\n",
        "    def predict(self, x):\n",
        "        return self.predictor.predict(x).values\n",
        "predictor_wrapper=predictor_wrapper_class(predictor)"
      ],
      "metadata": {
        "id": "UqMyt5qsIJl1"
      },
      "execution_count": 35,
      "outputs": []
    },
    {
      "cell_type": "markdown",
      "source": [
        "# Counterfactuals"
      ],
      "metadata": {
        "id": "5v0yS5g1DzLz"
      }
    },
    {
      "cell_type": "code",
      "source": [
        "\n",
        "\n",
        "# We create the preprocessing pipelines for both numeric and categorical data.\n",
        "numeric_transformer = Pipeline(steps=[\n",
        "    ('scaler', StandardScaler())])\n",
        "\n",
        "categorical_transformer = Pipeline(steps=[\n",
        "    ('onehot', OneHotEncoder(handle_unknown='ignore'))])\n",
        "\n",
        "transformations = ColumnTransformer(\n",
        "    transformers=[\n",
        "        ('num', numeric_transformer, continuous_features),\n",
        "        ('cat', categorical_transformer, categorical_features)])\n",
        "# clf = Pipeline(steps=[('preprocessor', transformations),\n",
        "#                            ('classifier', RandomForestClassifier())])\n",
        "# model = clf.fit(x_train, y_train)"
      ],
      "metadata": {
        "id": "MzJw5ugaIVRf"
      },
      "execution_count": 134,
      "outputs": []
    },
    {
      "cell_type": "code",
      "source": [
        "d = dice_ml.Data(dataframe=dropdf,\n",
        "                      continuous_features=continuous_features,\n",
        "                      outcome_name=outcome_name)\n",
        "\n",
        "# We provide the type of model as a parameter (model_type)\n",
        "m = dice_ml.Model(model=predictor_wrapper, backend=\"sklearn\", model_type='classifier')\n",
        "# m = dice_ml.Model(model=model, backend=\"sklearn\", model_type='classifier')\n",
        "dice_model = Dice(d, m, method=\"genetic\")"
      ],
      "metadata": {
        "id": "Y1H4OH4_B-ML"
      },
      "execution_count": null,
      "outputs": []
    },
    {
      "cell_type": "code",
      "source": [
        "features_to_vary=category[\"Treatment\"]\n",
        "queries = x_test[100:101]\n",
        "counterfactuals = dice_model.generate_counterfactuals(queries, total_CFs=5, desired_class=0, features_to_vary=features_to_vary)\n",
        "# counterfactuals.visualize_as_dataframe(show_only_changes=True)\n",
        "from IPython.display import display, HTML\n",
        "for i in range(len(counterfactuals.cf_examples_list)):\n",
        "  cf_example = counterfactuals.cf_examples_list[i]\n",
        "  print(cf_example)\n",
        "  querydf = cf_example.test_instance_df\n",
        "  resdf = cf_example.final_cfs_df\n",
        "  resdf.head()\n",
        "  dropcols=[]\n",
        "  for col in list(resdf.columns):\n",
        "    if resdf[col].values[0]==querydf[col].values[0]:\n",
        "      if resdf[col].nunique()==1:\n",
        "        dropcols.append(col)\n",
        "  resdf.drop(dropcols, axis=1, inplace=True)\n",
        "  display(querydf[resdf.columns])\n",
        "  display(resdf)"
      ],
      "metadata": {
        "id": "0TmXqgomIWNS"
      },
      "execution_count": null,
      "outputs": []
    },
    {
      "cell_type": "code",
      "source": [
        "imp = dice_model.local_feature_importance(query_instance, cf_examples_list=counterfactuals.cf_examples_list)\n",
        "print(imp.local_importance)"
      ],
      "metadata": {
        "id": "IYgg1nXwNycP"
      },
      "execution_count": null,
      "outputs": []
    }
  ]
}