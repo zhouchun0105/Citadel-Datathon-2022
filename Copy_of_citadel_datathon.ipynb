{
  "nbformat": 4,
  "nbformat_minor": 0,
  "metadata": {
    "colab": {
      "name": "Copy of citadel_datathon.ipynb",
      "provenance": [],
      "collapsed_sections": [],
      "include_colab_link": true
    },
    "kernelspec": {
      "name": "python3",
      "display_name": "Python 3"
    },
    "language_info": {
      "name": "python"
    }
  },
  "cells": [
    {
      "cell_type": "markdown",
      "metadata": {
        "id": "view-in-github",
        "colab_type": "text"
      },
      "source": [
        "<a href=\"https://colab.research.google.com/github/zhouchun0105/Citadel-Datathon-2022/blob/main/Copy_of_citadel_datathon.ipynb\" target=\"_parent\"><img src=\"https://colab.research.google.com/assets/colab-badge.svg\" alt=\"Open In Colab\"/></a>"
      ]
    },
    {
      "cell_type": "markdown",
      "source": [
        "# Import Libraries and Datasets"
      ],
      "metadata": {
        "id": "U5rQ2Inm-qXg"
      }
    },
    {
      "cell_type": "code",
      "execution_count": 1,
      "metadata": {
        "id": "oaWTG05yMgOH"
      },
      "outputs": [],
      "source": [
        "import pandas as pd"
      ]
    },
    {
      "cell_type": "code",
      "source": [
        "from google.colab import drive\n",
        "drive.mount('/content/drive')"
      ],
      "metadata": {
        "colab": {
          "base_uri": "https://localhost:8080/"
        },
        "id": "uB5B6P1ZPs2f",
        "outputId": "f7adfa1c-c7cb-47e6-fb04-da1994bcc5e4"
      },
      "execution_count": 2,
      "outputs": [
        {
          "output_type": "stream",
          "name": "stdout",
          "text": [
            "Mounted at /content/drive\n"
          ]
        }
      ]
    },
    {
      "cell_type": "code",
      "source": [
        "df = pd.read_csv('/content/drive/MyDrive/Final_Data_Collection/Diabetes_Data_1999_2008.csv',na_values=['?'])"
      ],
      "metadata": {
        "id": "l3Rq2zh6QJE0",
        "outputId": "fb6780a3-96cf-4fe0-857a-070c898d6824",
        "colab": {
          "base_uri": "https://localhost:8080/"
        }
      },
      "execution_count": 3,
      "outputs": [
        {
          "output_type": "stream",
          "name": "stderr",
          "text": [
            "/usr/local/lib/python3.7/dist-packages/IPython/core/interactiveshell.py:2882: DtypeWarning: Columns (10) have mixed types.Specify dtype option on import or set low_memory=False.\n",
            "  exec(code_obj, self.user_global_ns, self.user_ns)\n"
          ]
        }
      ]
    },
    {
      "cell_type": "code",
      "source": [
        "df.head()"
      ],
      "metadata": {
        "colab": {
          "base_uri": "https://localhost:8080/",
          "height": 403
        },
        "id": "VD8oHOHKXfdY",
        "outputId": "bcc086ba-2c97-4776-a213-81ef383744c1"
      },
      "execution_count": 4,
      "outputs": [
        {
          "output_type": "execute_result",
          "data": {
            "text/plain": [
              "   encounter_id  patient_nbr             race  gender      age weight  \\\n",
              "0       2278392      8222157        Caucasian  Female   [0-10)    NaN   \n",
              "1        149190     55629189        Caucasian  Female  [10-20)    NaN   \n",
              "2         64410     86047875  AfricanAmerican  Female  [20-30)    NaN   \n",
              "3        500364     82442376        Caucasian    Male  [30-40)    NaN   \n",
              "4         16680     42519267        Caucasian    Male  [40-50)    NaN   \n",
              "\n",
              "   admission_type_id  discharge_disposition_id  admission_source_id  \\\n",
              "0                  6                        25                    1   \n",
              "1                  1                         1                    7   \n",
              "2                  1                         1                    7   \n",
              "3                  1                         1                    7   \n",
              "4                  1                         1                    7   \n",
              "\n",
              "   time_in_hospital  ... citoglipton insulin  glyburide-metformin  \\\n",
              "0                 1  ...          No      No                   No   \n",
              "1                 3  ...          No      Up                   No   \n",
              "2                 2  ...          No      No                   No   \n",
              "3                 2  ...          No      Up                   No   \n",
              "4                 1  ...          No  Steady                   No   \n",
              "\n",
              "   glipizide-metformin  glimepiride-pioglitazone  metformin-rosiglitazone  \\\n",
              "0                   No                        No                       No   \n",
              "1                   No                        No                       No   \n",
              "2                   No                        No                       No   \n",
              "3                   No                        No                       No   \n",
              "4                   No                        No                       No   \n",
              "\n",
              "   metformin-pioglitazone  change diabetesMed readmitted  \n",
              "0                      No      No          No         NO  \n",
              "1                      No      Ch         Yes        >30  \n",
              "2                      No      No         Yes         NO  \n",
              "3                      No      Ch         Yes         NO  \n",
              "4                      No      Ch         Yes         NO  \n",
              "\n",
              "[5 rows x 50 columns]"
            ],
            "text/html": [
              "\n",
              "  <div id=\"df-a948afb7-a420-488b-8c35-78528b2e3a69\">\n",
              "    <div class=\"colab-df-container\">\n",
              "      <div>\n",
              "<style scoped>\n",
              "    .dataframe tbody tr th:only-of-type {\n",
              "        vertical-align: middle;\n",
              "    }\n",
              "\n",
              "    .dataframe tbody tr th {\n",
              "        vertical-align: top;\n",
              "    }\n",
              "\n",
              "    .dataframe thead th {\n",
              "        text-align: right;\n",
              "    }\n",
              "</style>\n",
              "<table border=\"1\" class=\"dataframe\">\n",
              "  <thead>\n",
              "    <tr style=\"text-align: right;\">\n",
              "      <th></th>\n",
              "      <th>encounter_id</th>\n",
              "      <th>patient_nbr</th>\n",
              "      <th>race</th>\n",
              "      <th>gender</th>\n",
              "      <th>age</th>\n",
              "      <th>weight</th>\n",
              "      <th>admission_type_id</th>\n",
              "      <th>discharge_disposition_id</th>\n",
              "      <th>admission_source_id</th>\n",
              "      <th>time_in_hospital</th>\n",
              "      <th>...</th>\n",
              "      <th>citoglipton</th>\n",
              "      <th>insulin</th>\n",
              "      <th>glyburide-metformin</th>\n",
              "      <th>glipizide-metformin</th>\n",
              "      <th>glimepiride-pioglitazone</th>\n",
              "      <th>metformin-rosiglitazone</th>\n",
              "      <th>metformin-pioglitazone</th>\n",
              "      <th>change</th>\n",
              "      <th>diabetesMed</th>\n",
              "      <th>readmitted</th>\n",
              "    </tr>\n",
              "  </thead>\n",
              "  <tbody>\n",
              "    <tr>\n",
              "      <th>0</th>\n",
              "      <td>2278392</td>\n",
              "      <td>8222157</td>\n",
              "      <td>Caucasian</td>\n",
              "      <td>Female</td>\n",
              "      <td>[0-10)</td>\n",
              "      <td>NaN</td>\n",
              "      <td>6</td>\n",
              "      <td>25</td>\n",
              "      <td>1</td>\n",
              "      <td>1</td>\n",
              "      <td>...</td>\n",
              "      <td>No</td>\n",
              "      <td>No</td>\n",
              "      <td>No</td>\n",
              "      <td>No</td>\n",
              "      <td>No</td>\n",
              "      <td>No</td>\n",
              "      <td>No</td>\n",
              "      <td>No</td>\n",
              "      <td>No</td>\n",
              "      <td>NO</td>\n",
              "    </tr>\n",
              "    <tr>\n",
              "      <th>1</th>\n",
              "      <td>149190</td>\n",
              "      <td>55629189</td>\n",
              "      <td>Caucasian</td>\n",
              "      <td>Female</td>\n",
              "      <td>[10-20)</td>\n",
              "      <td>NaN</td>\n",
              "      <td>1</td>\n",
              "      <td>1</td>\n",
              "      <td>7</td>\n",
              "      <td>3</td>\n",
              "      <td>...</td>\n",
              "      <td>No</td>\n",
              "      <td>Up</td>\n",
              "      <td>No</td>\n",
              "      <td>No</td>\n",
              "      <td>No</td>\n",
              "      <td>No</td>\n",
              "      <td>No</td>\n",
              "      <td>Ch</td>\n",
              "      <td>Yes</td>\n",
              "      <td>&gt;30</td>\n",
              "    </tr>\n",
              "    <tr>\n",
              "      <th>2</th>\n",
              "      <td>64410</td>\n",
              "      <td>86047875</td>\n",
              "      <td>AfricanAmerican</td>\n",
              "      <td>Female</td>\n",
              "      <td>[20-30)</td>\n",
              "      <td>NaN</td>\n",
              "      <td>1</td>\n",
              "      <td>1</td>\n",
              "      <td>7</td>\n",
              "      <td>2</td>\n",
              "      <td>...</td>\n",
              "      <td>No</td>\n",
              "      <td>No</td>\n",
              "      <td>No</td>\n",
              "      <td>No</td>\n",
              "      <td>No</td>\n",
              "      <td>No</td>\n",
              "      <td>No</td>\n",
              "      <td>No</td>\n",
              "      <td>Yes</td>\n",
              "      <td>NO</td>\n",
              "    </tr>\n",
              "    <tr>\n",
              "      <th>3</th>\n",
              "      <td>500364</td>\n",
              "      <td>82442376</td>\n",
              "      <td>Caucasian</td>\n",
              "      <td>Male</td>\n",
              "      <td>[30-40)</td>\n",
              "      <td>NaN</td>\n",
              "      <td>1</td>\n",
              "      <td>1</td>\n",
              "      <td>7</td>\n",
              "      <td>2</td>\n",
              "      <td>...</td>\n",
              "      <td>No</td>\n",
              "      <td>Up</td>\n",
              "      <td>No</td>\n",
              "      <td>No</td>\n",
              "      <td>No</td>\n",
              "      <td>No</td>\n",
              "      <td>No</td>\n",
              "      <td>Ch</td>\n",
              "      <td>Yes</td>\n",
              "      <td>NO</td>\n",
              "    </tr>\n",
              "    <tr>\n",
              "      <th>4</th>\n",
              "      <td>16680</td>\n",
              "      <td>42519267</td>\n",
              "      <td>Caucasian</td>\n",
              "      <td>Male</td>\n",
              "      <td>[40-50)</td>\n",
              "      <td>NaN</td>\n",
              "      <td>1</td>\n",
              "      <td>1</td>\n",
              "      <td>7</td>\n",
              "      <td>1</td>\n",
              "      <td>...</td>\n",
              "      <td>No</td>\n",
              "      <td>Steady</td>\n",
              "      <td>No</td>\n",
              "      <td>No</td>\n",
              "      <td>No</td>\n",
              "      <td>No</td>\n",
              "      <td>No</td>\n",
              "      <td>Ch</td>\n",
              "      <td>Yes</td>\n",
              "      <td>NO</td>\n",
              "    </tr>\n",
              "  </tbody>\n",
              "</table>\n",
              "<p>5 rows × 50 columns</p>\n",
              "</div>\n",
              "      <button class=\"colab-df-convert\" onclick=\"convertToInteractive('df-a948afb7-a420-488b-8c35-78528b2e3a69')\"\n",
              "              title=\"Convert this dataframe to an interactive table.\"\n",
              "              style=\"display:none;\">\n",
              "        \n",
              "  <svg xmlns=\"http://www.w3.org/2000/svg\" height=\"24px\"viewBox=\"0 0 24 24\"\n",
              "       width=\"24px\">\n",
              "    <path d=\"M0 0h24v24H0V0z\" fill=\"none\"/>\n",
              "    <path d=\"M18.56 5.44l.94 2.06.94-2.06 2.06-.94-2.06-.94-.94-2.06-.94 2.06-2.06.94zm-11 1L8.5 8.5l.94-2.06 2.06-.94-2.06-.94L8.5 2.5l-.94 2.06-2.06.94zm10 10l.94 2.06.94-2.06 2.06-.94-2.06-.94-.94-2.06-.94 2.06-2.06.94z\"/><path d=\"M17.41 7.96l-1.37-1.37c-.4-.4-.92-.59-1.43-.59-.52 0-1.04.2-1.43.59L10.3 9.45l-7.72 7.72c-.78.78-.78 2.05 0 2.83L4 21.41c.39.39.9.59 1.41.59.51 0 1.02-.2 1.41-.59l7.78-7.78 2.81-2.81c.8-.78.8-2.07 0-2.86zM5.41 20L4 18.59l7.72-7.72 1.47 1.35L5.41 20z\"/>\n",
              "  </svg>\n",
              "      </button>\n",
              "      \n",
              "  <style>\n",
              "    .colab-df-container {\n",
              "      display:flex;\n",
              "      flex-wrap:wrap;\n",
              "      gap: 12px;\n",
              "    }\n",
              "\n",
              "    .colab-df-convert {\n",
              "      background-color: #E8F0FE;\n",
              "      border: none;\n",
              "      border-radius: 50%;\n",
              "      cursor: pointer;\n",
              "      display: none;\n",
              "      fill: #1967D2;\n",
              "      height: 32px;\n",
              "      padding: 0 0 0 0;\n",
              "      width: 32px;\n",
              "    }\n",
              "\n",
              "    .colab-df-convert:hover {\n",
              "      background-color: #E2EBFA;\n",
              "      box-shadow: 0px 1px 2px rgba(60, 64, 67, 0.3), 0px 1px 3px 1px rgba(60, 64, 67, 0.15);\n",
              "      fill: #174EA6;\n",
              "    }\n",
              "\n",
              "    [theme=dark] .colab-df-convert {\n",
              "      background-color: #3B4455;\n",
              "      fill: #D2E3FC;\n",
              "    }\n",
              "\n",
              "    [theme=dark] .colab-df-convert:hover {\n",
              "      background-color: #434B5C;\n",
              "      box-shadow: 0px 1px 3px 1px rgba(0, 0, 0, 0.15);\n",
              "      filter: drop-shadow(0px 1px 2px rgba(0, 0, 0, 0.3));\n",
              "      fill: #FFFFFF;\n",
              "    }\n",
              "  </style>\n",
              "\n",
              "      <script>\n",
              "        const buttonEl =\n",
              "          document.querySelector('#df-a948afb7-a420-488b-8c35-78528b2e3a69 button.colab-df-convert');\n",
              "        buttonEl.style.display =\n",
              "          google.colab.kernel.accessAllowed ? 'block' : 'none';\n",
              "\n",
              "        async function convertToInteractive(key) {\n",
              "          const element = document.querySelector('#df-a948afb7-a420-488b-8c35-78528b2e3a69');\n",
              "          const dataTable =\n",
              "            await google.colab.kernel.invokeFunction('convertToInteractive',\n",
              "                                                     [key], {});\n",
              "          if (!dataTable) return;\n",
              "\n",
              "          const docLinkHtml = 'Like what you see? Visit the ' +\n",
              "            '<a target=\"_blank\" href=https://colab.research.google.com/notebooks/data_table.ipynb>data table notebook</a>'\n",
              "            + ' to learn more about interactive tables.';\n",
              "          element.innerHTML = '';\n",
              "          dataTable['output_type'] = 'display_data';\n",
              "          await google.colab.output.renderOutput(dataTable, element);\n",
              "          const docLink = document.createElement('div');\n",
              "          docLink.innerHTML = docLinkHtml;\n",
              "          element.appendChild(docLink);\n",
              "        }\n",
              "      </script>\n",
              "    </div>\n",
              "  </div>\n",
              "  "
            ]
          },
          "metadata": {},
          "execution_count": 4
        }
      ]
    },
    {
      "cell_type": "code",
      "source": [
        "df.info()"
      ],
      "metadata": {
        "id": "oSJ6pZ4DXhuK",
        "outputId": "1e964228-2d65-4c2d-b3c0-0a967847d708",
        "colab": {
          "base_uri": "https://localhost:8080/"
        }
      },
      "execution_count": 5,
      "outputs": [
        {
          "output_type": "stream",
          "name": "stdout",
          "text": [
            "<class 'pandas.core.frame.DataFrame'>\n",
            "RangeIndex: 101766 entries, 0 to 101765\n",
            "Data columns (total 50 columns):\n",
            " #   Column                    Non-Null Count   Dtype \n",
            "---  ------                    --------------   ----- \n",
            " 0   encounter_id              101766 non-null  int64 \n",
            " 1   patient_nbr               101766 non-null  int64 \n",
            " 2   race                      99493 non-null   object\n",
            " 3   gender                    101766 non-null  object\n",
            " 4   age                       101766 non-null  object\n",
            " 5   weight                    3197 non-null    object\n",
            " 6   admission_type_id         101766 non-null  int64 \n",
            " 7   discharge_disposition_id  101766 non-null  int64 \n",
            " 8   admission_source_id       101766 non-null  int64 \n",
            " 9   time_in_hospital          101766 non-null  int64 \n",
            " 10  payer_code                61510 non-null   object\n",
            " 11  medical_specialty         51817 non-null   object\n",
            " 12  num_lab_procedures        101766 non-null  int64 \n",
            " 13  num_procedures            101766 non-null  int64 \n",
            " 14  num_medications           101766 non-null  int64 \n",
            " 15  number_outpatient         101766 non-null  int64 \n",
            " 16  number_emergency          101766 non-null  int64 \n",
            " 17  number_inpatient          101766 non-null  int64 \n",
            " 18  diag_1                    101745 non-null  object\n",
            " 19  diag_2                    101408 non-null  object\n",
            " 20  diag_3                    100343 non-null  object\n",
            " 21  number_diagnoses          101766 non-null  int64 \n",
            " 22  max_glu_serum             101766 non-null  object\n",
            " 23  A1Cresult                 101766 non-null  object\n",
            " 24  metformin                 101766 non-null  object\n",
            " 25  repaglinide               101766 non-null  object\n",
            " 26  nateglinide               101766 non-null  object\n",
            " 27  chlorpropamide            101766 non-null  object\n",
            " 28  glimepiride               101766 non-null  object\n",
            " 29  acetohexamide             101766 non-null  object\n",
            " 30  glipizide                 101766 non-null  object\n",
            " 31  glyburide                 101766 non-null  object\n",
            " 32  tolbutamide               101766 non-null  object\n",
            " 33  pioglitazone              101766 non-null  object\n",
            " 34  rosiglitazone             101766 non-null  object\n",
            " 35  acarbose                  101766 non-null  object\n",
            " 36  miglitol                  101766 non-null  object\n",
            " 37  troglitazone              101766 non-null  object\n",
            " 38  tolazamide                101766 non-null  object\n",
            " 39  examide                   101766 non-null  object\n",
            " 40  citoglipton               101766 non-null  object\n",
            " 41  insulin                   101766 non-null  object\n",
            " 42  glyburide-metformin       101766 non-null  object\n",
            " 43  glipizide-metformin       101766 non-null  object\n",
            " 44  glimepiride-pioglitazone  101766 non-null  object\n",
            " 45  metformin-rosiglitazone   101766 non-null  object\n",
            " 46  metformin-pioglitazone    101766 non-null  object\n",
            " 47  change                    101766 non-null  object\n",
            " 48  diabetesMed               101766 non-null  object\n",
            " 49  readmitted                101766 non-null  object\n",
            "dtypes: int64(13), object(37)\n",
            "memory usage: 38.8+ MB\n"
          ]
        }
      ]
    },
    {
      "cell_type": "markdown",
      "source": [
        "# Data Cleaning"
      ],
      "metadata": {
        "id": "4FLiQ00opvjo"
      }
    },
    {
      "cell_type": "code",
      "source": [
        "#drop unused features\n",
        "df.drop([\"encounter_id\", \"patient_nbr\", \"weight\", \"payer_code\", \"medical_specialty\", \"change\", \"diabetesMed\"], axis=1, inplace=True)"
      ],
      "metadata": {
        "id": "NwVzHEIfYx_y"
      },
      "execution_count": 6,
      "outputs": []
    },
    {
      "cell_type": "code",
      "source": [
        "df.dropna(axis=0, inplace=True)"
      ],
      "metadata": {
        "id": "uc3jjKaZZKQo"
      },
      "execution_count": 7,
      "outputs": []
    },
    {
      "cell_type": "code",
      "source": [
        "#process discharge_disposition_id\n",
        "null_li = [18, 25, 26]\n",
        "discharge_li = [11, 19, 20, 21]\n",
        "alive_li = [1,2,3,4,5,6,7,8,9,10,12,13,14,15,16,17,22,23,24,30,27,28,29]  \n",
        "\n",
        "df['discharge_disposition_id']=df.discharge_disposition_id.replace(null_li, \"UNKNOWN\")\n",
        "df['discharge_disposition_id']=df.discharge_disposition_id.replace(discharge_li, \"ALIVE\")\n",
        "df['discharge_disposition_id']=df.discharge_disposition_id.replace(alive_li, \"EXPIRED\")\n",
        "\n",
        "df['discharge_disposition_id'].value_counts()"
      ],
      "metadata": {
        "colab": {
          "base_uri": "https://localhost:8080/"
        },
        "id": "7TjFUOgWaJ4F",
        "outputId": "3c427f1f-3ed0-425b-a9ce-b2a50a31a673"
      },
      "execution_count": 8,
      "outputs": [
        {
          "output_type": "execute_result",
          "data": {
            "text/plain": [
              "EXPIRED    91872\n",
              "UNKNOWN     4565\n",
              "ALIVE       1616\n",
              "Name: discharge_disposition_id, dtype: int64"
            ]
          },
          "metadata": {},
          "execution_count": 8
        }
      ]
    },
    {
      "cell_type": "code",
      "source": [
        "#process admission_type_id\n",
        "df['admission_type_id']=df.admission_type_id.replace({1:2 , 2:3, 3:4, 4:4, 5:5, 6:5, 7:1, 8:5})\n",
        "df['admission_type_id'].value_counts()"
      ],
      "metadata": {
        "id": "wyp8pGvFa54Y",
        "colab": {
          "base_uri": "https://localhost:8080/"
        },
        "outputId": "531e14b7-e31e-4417-93e6-da07c7fb9843"
      },
      "execution_count": 9,
      "outputs": [
        {
          "output_type": "execute_result",
          "data": {
            "text/plain": [
              "2    52178\n",
              "4    18204\n",
              "3    17543\n",
              "5    10108\n",
              "1       20\n",
              "Name: admission_type_id, dtype: int64"
            ]
          },
          "metadata": {},
          "execution_count": 9
        }
      ]
    },
    {
      "cell_type": "code",
      "source": [
        "#process readmitted\n",
        "df['readmitted']=df.readmitted.replace({'NO': 0 , '>30': 1, '<30': 2})\n",
        "df['readmitted'].value_counts()"
      ],
      "metadata": {
        "id": "kx99-3uRpMxA",
        "outputId": "0bf15b3b-dbbe-4e33-9831-a9e8ca60f029",
        "colab": {
          "base_uri": "https://localhost:8080/"
        }
      },
      "execution_count": 10,
      "outputs": [
        {
          "output_type": "execute_result",
          "data": {
            "text/plain": [
              "0    52338\n",
              "1    34649\n",
              "2    11066\n",
              "Name: readmitted, dtype: int64"
            ]
          },
          "metadata": {},
          "execution_count": 10
        }
      ]
    },
    {
      "cell_type": "code",
      "source": [
        "#process age\n",
        "df['age']=df.age.replace({'[0-10)':0,'[10-20)':1, '[20-30)':2, '[30-40)':3, '[40-50)':4, '[50-60)':5,\n",
        "       '[60-70)':6, '[70-80)':7, '[80-90)':8, '[90-100)':9})\n",
        "df['age'].value_counts()"
      ],
      "metadata": {
        "id": "h9oyWVv6pYTP",
        "outputId": "fc3aa809-43f6-4ac0-fd60-9387ccc10e82",
        "colab": {
          "base_uri": "https://localhost:8080/"
        }
      },
      "execution_count": 11,
      "outputs": [
        {
          "output_type": "execute_result",
          "data": {
            "text/plain": [
              "7    25306\n",
              "6    21809\n",
              "8    16702\n",
              "5    16697\n",
              "4     9265\n",
              "3     3548\n",
              "9     2717\n",
              "2     1478\n",
              "1      466\n",
              "0       65\n",
              "Name: age, dtype: int64"
            ]
          },
          "metadata": {},
          "execution_count": 11
        }
      ]
    },
    {
      "cell_type": "code",
      "source": [
        "#process admission_source_id\n",
        "df['admission_source_id'] = df.admission_source_id.replace([1,2,3],'Referral')\n",
        "df['admission_source_id'] = df.admission_source_id.replace([4,5,6,10,18,22,25,26],'Transfer')\n",
        "df['admission_source_id'] = df.admission_source_id.replace([9,15,17,20,21],'Unknown')\n",
        "df['admission_source_id'] = df.admission_source_id.replace([11,12,13,14,23,24],'New_Born')\n",
        "df['admission_source_id'] = df.admission_source_id.replace({7:'ER', 8:'CLE', 19:'Readmission'})\n",
        "df['admission_source_id'].value_counts()"
      ],
      "metadata": {
        "id": "qLVmKsdgwDAU",
        "outputId": "10408ad3-dfd4-4bc5-f88d-0d3018162f60",
        "colab": {
          "base_uri": "https://localhost:8080/"
        }
      },
      "execution_count": 12,
      "outputs": [
        {
          "output_type": "execute_result",
          "data": {
            "text/plain": [
              "ER          55951\n",
              "Referral    29566\n",
              "Unknown      6811\n",
              "Transfer     5705\n",
              "CLE            15\n",
              "New_Born        5\n",
              "Name: admission_source_id, dtype: int64"
            ]
          },
          "metadata": {},
          "execution_count": 12
        }
      ]
    },
    {
      "cell_type": "code",
      "source": [
        "#diagnosis 1\n",
        "mask = {'428':'Congestive heart failure','414': 'Dissection of aorta',\\\n",
        "                                '786':'Respiratory abnormality','410':'Acute myocardial infarction of anterolateral wall',\\\n",
        "                                '486':'Pneumonia','427':'Paroxysmal supraventricular tachycardia','491':'Simple chronic bronchitis',\\\n",
        "                                '715':'Osteoarthrosis','682':'Cellulitis and abscess of face',\\\n",
        "                                '434':'Cerebral thrombosis without mention of cerebral infarction'\n",
        "                                }\n",
        "df['diag_1']=df.diag_1.replace(mask)\n",
        "labels = list(df.diag_1.unique())\n",
        "new_label = [x for x in labels if x not in mask.values()]\n",
        "df['diag_1'] = df.diag_1.replace(new_label,'Others')\n",
        "df.diag_1.value_counts()"
      ],
      "metadata": {
        "id": "14XaBpaC6OgS",
        "outputId": "468273dd-9acc-4211-dd15-d6598f5b5607",
        "colab": {
          "base_uri": "https://localhost:8080/"
        }
      },
      "execution_count": 13,
      "outputs": [
        {
          "output_type": "execute_result",
          "data": {
            "text/plain": [
              "Others                                                        63190\n",
              "Congestive heart failure                                       6730\n",
              "Dissection of aorta                                            6374\n",
              "Respiratory abnormality                                        3900\n",
              "Acute myocardial infarction of anterolateral wall              3514\n",
              "Pneumonia                                                      3412\n",
              "Paroxysmal supraventricular tachycardia                        2701\n",
              "Simple chronic bronchitis                                      2210\n",
              "Osteoarthrosis                                                 2073\n",
              "Cerebral thrombosis without mention of cerebral infarction     1983\n",
              "Cellulitis and abscess of face                                 1966\n",
              "Name: diag_1, dtype: int64"
            ]
          },
          "metadata": {},
          "execution_count": 13
        }
      ]
    },
    {
      "cell_type": "code",
      "source": [
        "# diagnosis 2\n",
        "diag_2_df = df.groupby('diag_2').size().to_frame()\n",
        "diag_2_df.columns = ['count']\n",
        "diag_2_df['count'].nlargest(n=10)"
      ],
      "metadata": {
        "id": "gA-UqgTR_vBF",
        "outputId": "18aa3bd7-8b1a-448d-fb76-b265e97f3818",
        "colab": {
          "base_uri": "https://localhost:8080/"
        }
      },
      "execution_count": 14,
      "outputs": [
        {
          "output_type": "execute_result",
          "data": {
            "text/plain": [
              "diag_2\n",
              "428    6517\n",
              "276    6513\n",
              "250    5412\n",
              "427    4919\n",
              "401    3613\n",
              "496    3233\n",
              "599    3225\n",
              "403    2781\n",
              "414    2574\n",
              "411    2496\n",
              "Name: count, dtype: int64"
            ]
          },
          "metadata": {},
          "execution_count": 14
        }
      ]
    },
    {
      "cell_type": "code",
      "source": [
        "mask2 = {'276':'Hyperosmolality and/or hypernatremia','428': 'Congestive heart failure',\\\n",
        "                                '250':'Diabetes mellitus without mention of complication','427':'Paroxysmal supraventricular tachycardia',\\\n",
        "                                '401':'Malignant essential hypertension','496':'Chronic airway obstruction',\\\n",
        "                                '599':'Urinary tract infection','403':'Hypertensive chronic kidney disease',\\\n",
        "                                '414':'Coronary atherosclerosis of unspecified type of vessel',\\\n",
        "                                '411':'Postmyocardial infarction syndrome'\n",
        "                                }\n",
        "df['diag_2']=df.diag_2.replace(mask2)\n",
        "labels2 = list(df.diag_2.unique())\n",
        "new_label2 = [x for x in labels2 if x not in mask2.values()]\n",
        "df['diag_2'] = df.diag_2.replace(new_label2,'Others')\n",
        "df.diag_2.value_counts()"
      ],
      "metadata": {
        "id": "XYBoJPzr_y0U",
        "outputId": "9355396d-da69-4abb-ecb8-d79beb88a1f5",
        "colab": {
          "base_uri": "https://localhost:8080/"
        }
      },
      "execution_count": 15,
      "outputs": [
        {
          "output_type": "execute_result",
          "data": {
            "text/plain": [
              "Others                                                    56770\n",
              "Congestive heart failure                                   6517\n",
              "Hyperosmolality and/or hypernatremia                       6513\n",
              "Diabetes mellitus without mention of complication          5412\n",
              "Paroxysmal supraventricular tachycardia                    4919\n",
              "Malignant essential hypertension                           3613\n",
              "Chronic airway obstruction                                 3233\n",
              "Urinary tract infection                                    3225\n",
              "Hypertensive chronic kidney disease                        2781\n",
              "Coronary atherosclerosis of unspecified type of vessel     2574\n",
              "Postmyocardial infarction syndrome                         2496\n",
              "Name: diag_2, dtype: int64"
            ]
          },
          "metadata": {},
          "execution_count": 15
        }
      ]
    },
    {
      "cell_type": "code",
      "source": [
        "# Diagnosis 3\n",
        "diag_3_df = df.groupby('diag_3').size().to_frame()\n",
        "diag_3_df.columns = ['count']\n",
        "diag_3_df['count'].nlargest(n=10)"
      ],
      "metadata": {
        "id": "DWPbP4_C_4su",
        "outputId": "c209e9d6-23cf-44c5-a7e8-c168623122d3",
        "colab": {
          "base_uri": "https://localhost:8080/"
        }
      },
      "execution_count": 16,
      "outputs": [
        {
          "output_type": "execute_result",
          "data": {
            "text/plain": [
              "diag_3\n",
              "250    11208\n",
              "401     8090\n",
              "276     5097\n",
              "428     4491\n",
              "427     3865\n",
              "414     3567\n",
              "496     2552\n",
              "403     2322\n",
              "585     1949\n",
              "272     1910\n",
              "Name: count, dtype: int64"
            ]
          },
          "metadata": {},
          "execution_count": 16
        }
      ]
    },
    {
      "cell_type": "code",
      "source": [
        "mask3 = {'276':'Hyperosmolality and/or hypernatremia','428': 'Congestive heart failure',\\\n",
        "                                '250':'Diabetes mellitus without mention of complication','427':'Paroxysmal supraventricular tachycardia',\\\n",
        "                                '401':'Malignant essential hypertension','496':'Chronic airway obstruction',\\\n",
        "                                '403':'Hypertensive chronic kidney disease',\\\n",
        "                                '414':'Coronary atherosclerosis of unspecified type of vessel',\\\n",
        "                                '585':'Chronic kidney disease',\\\n",
        "                                '272':'Pure hypercholesterolemia'\n",
        "\n",
        "                                }\n",
        "df['diag_3']=df.diag_3.replace(mask3)\n",
        "labels3 = list(df.diag_3.unique())\n",
        "new_label3 = [x for x in labels3 if x not in mask3.values()]\n",
        "df['diag_3'] = df.diag_3.replace(new_label3,'Others')\n",
        "df.diag_3.value_counts()"
      ],
      "metadata": {
        "id": "wduitS5q_9uW",
        "outputId": "3960b2e0-7ce9-4d38-e9bc-fcf908feafa2",
        "colab": {
          "base_uri": "https://localhost:8080/"
        }
      },
      "execution_count": 17,
      "outputs": [
        {
          "output_type": "execute_result",
          "data": {
            "text/plain": [
              "Others                                                    53002\n",
              "Diabetes mellitus without mention of complication         11208\n",
              "Malignant essential hypertension                           8090\n",
              "Hyperosmolality and/or hypernatremia                       5097\n",
              "Congestive heart failure                                   4491\n",
              "Paroxysmal supraventricular tachycardia                    3865\n",
              "Coronary atherosclerosis of unspecified type of vessel     3567\n",
              "Chronic airway obstruction                                 2552\n",
              "Hypertensive chronic kidney disease                        2322\n",
              "Chronic kidney disease                                     1949\n",
              "Pure hypercholesterolemia                                  1910\n",
              "Name: diag_3, dtype: int64"
            ]
          },
          "metadata": {},
          "execution_count": 17
        }
      ]
    },
    {
      "cell_type": "code",
      "source": [
        "df[['diag_1','diag_2','diag_3']]"
      ],
      "metadata": {
        "id": "tixywLe9ADiM",
        "outputId": "7cfe04aa-06cf-4a90-94bf-dd631043b67d",
        "colab": {
          "base_uri": "https://localhost:8080/",
          "height": 423
        }
      },
      "execution_count": 18,
      "outputs": [
        {
          "output_type": "execute_result",
          "data": {
            "text/plain": [
              "                     diag_1  \\\n",
              "1                    Others   \n",
              "2                    Others   \n",
              "3                    Others   \n",
              "4                    Others   \n",
              "5       Dissection of aorta   \n",
              "...                     ...   \n",
              "101761               Others   \n",
              "101762               Others   \n",
              "101763               Others   \n",
              "101764               Others   \n",
              "101765               Others   \n",
              "\n",
              "                                                   diag_2  \\\n",
              "1                                                  Others   \n",
              "2       Diabetes mellitus without mention of complication   \n",
              "3                                                  Others   \n",
              "4                                                  Others   \n",
              "5                      Postmyocardial infarction syndrome   \n",
              "...                                                   ...   \n",
              "101761                                             Others   \n",
              "101762               Hyperosmolality and/or hypernatremia   \n",
              "101763                                             Others   \n",
              "101764                                             Others   \n",
              "101765                                             Others   \n",
              "\n",
              "                                                   diag_3  \n",
              "1                                                  Others  \n",
              "2                                                  Others  \n",
              "3                     Hypertensive chronic kidney disease  \n",
              "4       Diabetes mellitus without mention of complication  \n",
              "5       Diabetes mellitus without mention of complication  \n",
              "...                                                   ...  \n",
              "101761                                             Others  \n",
              "101762                                             Others  \n",
              "101763                                             Others  \n",
              "101764                                             Others  \n",
              "101765                                             Others  \n",
              "\n",
              "[98053 rows x 3 columns]"
            ],
            "text/html": [
              "\n",
              "  <div id=\"df-f1af98ad-abe1-47c6-bb84-d5352844eb00\">\n",
              "    <div class=\"colab-df-container\">\n",
              "      <div>\n",
              "<style scoped>\n",
              "    .dataframe tbody tr th:only-of-type {\n",
              "        vertical-align: middle;\n",
              "    }\n",
              "\n",
              "    .dataframe tbody tr th {\n",
              "        vertical-align: top;\n",
              "    }\n",
              "\n",
              "    .dataframe thead th {\n",
              "        text-align: right;\n",
              "    }\n",
              "</style>\n",
              "<table border=\"1\" class=\"dataframe\">\n",
              "  <thead>\n",
              "    <tr style=\"text-align: right;\">\n",
              "      <th></th>\n",
              "      <th>diag_1</th>\n",
              "      <th>diag_2</th>\n",
              "      <th>diag_3</th>\n",
              "    </tr>\n",
              "  </thead>\n",
              "  <tbody>\n",
              "    <tr>\n",
              "      <th>1</th>\n",
              "      <td>Others</td>\n",
              "      <td>Others</td>\n",
              "      <td>Others</td>\n",
              "    </tr>\n",
              "    <tr>\n",
              "      <th>2</th>\n",
              "      <td>Others</td>\n",
              "      <td>Diabetes mellitus without mention of complication</td>\n",
              "      <td>Others</td>\n",
              "    </tr>\n",
              "    <tr>\n",
              "      <th>3</th>\n",
              "      <td>Others</td>\n",
              "      <td>Others</td>\n",
              "      <td>Hypertensive chronic kidney disease</td>\n",
              "    </tr>\n",
              "    <tr>\n",
              "      <th>4</th>\n",
              "      <td>Others</td>\n",
              "      <td>Others</td>\n",
              "      <td>Diabetes mellitus without mention of complication</td>\n",
              "    </tr>\n",
              "    <tr>\n",
              "      <th>5</th>\n",
              "      <td>Dissection of aorta</td>\n",
              "      <td>Postmyocardial infarction syndrome</td>\n",
              "      <td>Diabetes mellitus without mention of complication</td>\n",
              "    </tr>\n",
              "    <tr>\n",
              "      <th>...</th>\n",
              "      <td>...</td>\n",
              "      <td>...</td>\n",
              "      <td>...</td>\n",
              "    </tr>\n",
              "    <tr>\n",
              "      <th>101761</th>\n",
              "      <td>Others</td>\n",
              "      <td>Others</td>\n",
              "      <td>Others</td>\n",
              "    </tr>\n",
              "    <tr>\n",
              "      <th>101762</th>\n",
              "      <td>Others</td>\n",
              "      <td>Hyperosmolality and/or hypernatremia</td>\n",
              "      <td>Others</td>\n",
              "    </tr>\n",
              "    <tr>\n",
              "      <th>101763</th>\n",
              "      <td>Others</td>\n",
              "      <td>Others</td>\n",
              "      <td>Others</td>\n",
              "    </tr>\n",
              "    <tr>\n",
              "      <th>101764</th>\n",
              "      <td>Others</td>\n",
              "      <td>Others</td>\n",
              "      <td>Others</td>\n",
              "    </tr>\n",
              "    <tr>\n",
              "      <th>101765</th>\n",
              "      <td>Others</td>\n",
              "      <td>Others</td>\n",
              "      <td>Others</td>\n",
              "    </tr>\n",
              "  </tbody>\n",
              "</table>\n",
              "<p>98053 rows × 3 columns</p>\n",
              "</div>\n",
              "      <button class=\"colab-df-convert\" onclick=\"convertToInteractive('df-f1af98ad-abe1-47c6-bb84-d5352844eb00')\"\n",
              "              title=\"Convert this dataframe to an interactive table.\"\n",
              "              style=\"display:none;\">\n",
              "        \n",
              "  <svg xmlns=\"http://www.w3.org/2000/svg\" height=\"24px\"viewBox=\"0 0 24 24\"\n",
              "       width=\"24px\">\n",
              "    <path d=\"M0 0h24v24H0V0z\" fill=\"none\"/>\n",
              "    <path d=\"M18.56 5.44l.94 2.06.94-2.06 2.06-.94-2.06-.94-.94-2.06-.94 2.06-2.06.94zm-11 1L8.5 8.5l.94-2.06 2.06-.94-2.06-.94L8.5 2.5l-.94 2.06-2.06.94zm10 10l.94 2.06.94-2.06 2.06-.94-2.06-.94-.94-2.06-.94 2.06-2.06.94z\"/><path d=\"M17.41 7.96l-1.37-1.37c-.4-.4-.92-.59-1.43-.59-.52 0-1.04.2-1.43.59L10.3 9.45l-7.72 7.72c-.78.78-.78 2.05 0 2.83L4 21.41c.39.39.9.59 1.41.59.51 0 1.02-.2 1.41-.59l7.78-7.78 2.81-2.81c.8-.78.8-2.07 0-2.86zM5.41 20L4 18.59l7.72-7.72 1.47 1.35L5.41 20z\"/>\n",
              "  </svg>\n",
              "      </button>\n",
              "      \n",
              "  <style>\n",
              "    .colab-df-container {\n",
              "      display:flex;\n",
              "      flex-wrap:wrap;\n",
              "      gap: 12px;\n",
              "    }\n",
              "\n",
              "    .colab-df-convert {\n",
              "      background-color: #E8F0FE;\n",
              "      border: none;\n",
              "      border-radius: 50%;\n",
              "      cursor: pointer;\n",
              "      display: none;\n",
              "      fill: #1967D2;\n",
              "      height: 32px;\n",
              "      padding: 0 0 0 0;\n",
              "      width: 32px;\n",
              "    }\n",
              "\n",
              "    .colab-df-convert:hover {\n",
              "      background-color: #E2EBFA;\n",
              "      box-shadow: 0px 1px 2px rgba(60, 64, 67, 0.3), 0px 1px 3px 1px rgba(60, 64, 67, 0.15);\n",
              "      fill: #174EA6;\n",
              "    }\n",
              "\n",
              "    [theme=dark] .colab-df-convert {\n",
              "      background-color: #3B4455;\n",
              "      fill: #D2E3FC;\n",
              "    }\n",
              "\n",
              "    [theme=dark] .colab-df-convert:hover {\n",
              "      background-color: #434B5C;\n",
              "      box-shadow: 0px 1px 3px 1px rgba(0, 0, 0, 0.15);\n",
              "      filter: drop-shadow(0px 1px 2px rgba(0, 0, 0, 0.3));\n",
              "      fill: #FFFFFF;\n",
              "    }\n",
              "  </style>\n",
              "\n",
              "      <script>\n",
              "        const buttonEl =\n",
              "          document.querySelector('#df-f1af98ad-abe1-47c6-bb84-d5352844eb00 button.colab-df-convert');\n",
              "        buttonEl.style.display =\n",
              "          google.colab.kernel.accessAllowed ? 'block' : 'none';\n",
              "\n",
              "        async function convertToInteractive(key) {\n",
              "          const element = document.querySelector('#df-f1af98ad-abe1-47c6-bb84-d5352844eb00');\n",
              "          const dataTable =\n",
              "            await google.colab.kernel.invokeFunction('convertToInteractive',\n",
              "                                                     [key], {});\n",
              "          if (!dataTable) return;\n",
              "\n",
              "          const docLinkHtml = 'Like what you see? Visit the ' +\n",
              "            '<a target=\"_blank\" href=https://colab.research.google.com/notebooks/data_table.ipynb>data table notebook</a>'\n",
              "            + ' to learn more about interactive tables.';\n",
              "          element.innerHTML = '';\n",
              "          dataTable['output_type'] = 'display_data';\n",
              "          await google.colab.output.renderOutput(dataTable, element);\n",
              "          const docLink = document.createElement('div');\n",
              "          docLink.innerHTML = docLinkHtml;\n",
              "          element.appendChild(docLink);\n",
              "        }\n",
              "      </script>\n",
              "    </div>\n",
              "  </div>\n",
              "  "
            ]
          },
          "metadata": {},
          "execution_count": 18
        }
      ]
    },
    {
      "cell_type": "markdown",
      "source": [
        "# Feature Engineering"
      ],
      "metadata": {
        "id": "4126mgTLp8e2"
      }
    },
    {
      "cell_type": "code",
      "source": [
        "#cluster into [Treatment, Outcome, Demographic]\n",
        "category = {'Treatment':['admission_type_id','num_lab_procedures','num_procedures','num_medications','diag_1','diag_2','diag_3','number_diagnoses','max_glu_serum','A1Cresult','metformin','repaglinide','nateglinide','chlorpropamide','glimepiride','acetohexamide','glipizide','glyburide','tolbutamide','pioglitazone','rosiglitazone','acarbose','miglitol','troglitazone','tolazamide','examide','citoglipton','insulin','glyburide-metformin','glipizide-metformin','glimepiride-pioglitazone','metformin-rosiglitazone','metformin-pioglitazone'], \n",
        "            'Demographic':['race', 'gender', 'age', 'admission_source_id'],\n",
        "            'Outcome':['discharge_disposition_id','time_in_hospital', 'number_outpatient','number_emergency','number_inpatient','readmitted']}"
      ],
      "metadata": {
        "id": "mDD1cbfTpL8d"
      },
      "execution_count": 19,
      "outputs": []
    },
    {
      "cell_type": "code",
      "source": [
        "df.head()"
      ],
      "metadata": {
        "colab": {
          "base_uri": "https://localhost:8080/",
          "height": 317
        },
        "id": "gSdcu7UeCioe",
        "outputId": "503171c9-1a23-402b-a643-468668d7b538"
      },
      "execution_count": 20,
      "outputs": [
        {
          "output_type": "execute_result",
          "data": {
            "text/plain": [
              "              race  gender  age  admission_type_id discharge_disposition_id  \\\n",
              "1        Caucasian  Female    1                  2                  EXPIRED   \n",
              "2  AfricanAmerican  Female    2                  2                  EXPIRED   \n",
              "3        Caucasian    Male    3                  2                  EXPIRED   \n",
              "4        Caucasian    Male    4                  2                  EXPIRED   \n",
              "5        Caucasian    Male    5                  3                  EXPIRED   \n",
              "\n",
              "  admission_source_id  time_in_hospital  num_lab_procedures  num_procedures  \\\n",
              "1                  ER                 3                  59               0   \n",
              "2                  ER                 2                  11               5   \n",
              "3                  ER                 2                  44               1   \n",
              "4                  ER                 1                  51               0   \n",
              "5            Referral                 3                  31               6   \n",
              "\n",
              "   num_medications  ...  tolazamide  examide  citoglipton insulin  \\\n",
              "1               18  ...          No       No           No      Up   \n",
              "2               13  ...          No       No           No      No   \n",
              "3               16  ...          No       No           No      Up   \n",
              "4                8  ...          No       No           No  Steady   \n",
              "5               16  ...          No       No           No  Steady   \n",
              "\n",
              "  glyburide-metformin glipizide-metformin  glimepiride-pioglitazone  \\\n",
              "1                  No                  No                        No   \n",
              "2                  No                  No                        No   \n",
              "3                  No                  No                        No   \n",
              "4                  No                  No                        No   \n",
              "5                  No                  No                        No   \n",
              "\n",
              "  metformin-rosiglitazone metformin-pioglitazone readmitted  \n",
              "1                      No                     No          1  \n",
              "2                      No                     No          0  \n",
              "3                      No                     No          0  \n",
              "4                      No                     No          0  \n",
              "5                      No                     No          1  \n",
              "\n",
              "[5 rows x 43 columns]"
            ],
            "text/html": [
              "\n",
              "  <div id=\"df-a9ca07c8-183f-423e-985f-60db9978ad20\">\n",
              "    <div class=\"colab-df-container\">\n",
              "      <div>\n",
              "<style scoped>\n",
              "    .dataframe tbody tr th:only-of-type {\n",
              "        vertical-align: middle;\n",
              "    }\n",
              "\n",
              "    .dataframe tbody tr th {\n",
              "        vertical-align: top;\n",
              "    }\n",
              "\n",
              "    .dataframe thead th {\n",
              "        text-align: right;\n",
              "    }\n",
              "</style>\n",
              "<table border=\"1\" class=\"dataframe\">\n",
              "  <thead>\n",
              "    <tr style=\"text-align: right;\">\n",
              "      <th></th>\n",
              "      <th>race</th>\n",
              "      <th>gender</th>\n",
              "      <th>age</th>\n",
              "      <th>admission_type_id</th>\n",
              "      <th>discharge_disposition_id</th>\n",
              "      <th>admission_source_id</th>\n",
              "      <th>time_in_hospital</th>\n",
              "      <th>num_lab_procedures</th>\n",
              "      <th>num_procedures</th>\n",
              "      <th>num_medications</th>\n",
              "      <th>...</th>\n",
              "      <th>tolazamide</th>\n",
              "      <th>examide</th>\n",
              "      <th>citoglipton</th>\n",
              "      <th>insulin</th>\n",
              "      <th>glyburide-metformin</th>\n",
              "      <th>glipizide-metformin</th>\n",
              "      <th>glimepiride-pioglitazone</th>\n",
              "      <th>metformin-rosiglitazone</th>\n",
              "      <th>metformin-pioglitazone</th>\n",
              "      <th>readmitted</th>\n",
              "    </tr>\n",
              "  </thead>\n",
              "  <tbody>\n",
              "    <tr>\n",
              "      <th>1</th>\n",
              "      <td>Caucasian</td>\n",
              "      <td>Female</td>\n",
              "      <td>1</td>\n",
              "      <td>2</td>\n",
              "      <td>EXPIRED</td>\n",
              "      <td>ER</td>\n",
              "      <td>3</td>\n",
              "      <td>59</td>\n",
              "      <td>0</td>\n",
              "      <td>18</td>\n",
              "      <td>...</td>\n",
              "      <td>No</td>\n",
              "      <td>No</td>\n",
              "      <td>No</td>\n",
              "      <td>Up</td>\n",
              "      <td>No</td>\n",
              "      <td>No</td>\n",
              "      <td>No</td>\n",
              "      <td>No</td>\n",
              "      <td>No</td>\n",
              "      <td>1</td>\n",
              "    </tr>\n",
              "    <tr>\n",
              "      <th>2</th>\n",
              "      <td>AfricanAmerican</td>\n",
              "      <td>Female</td>\n",
              "      <td>2</td>\n",
              "      <td>2</td>\n",
              "      <td>EXPIRED</td>\n",
              "      <td>ER</td>\n",
              "      <td>2</td>\n",
              "      <td>11</td>\n",
              "      <td>5</td>\n",
              "      <td>13</td>\n",
              "      <td>...</td>\n",
              "      <td>No</td>\n",
              "      <td>No</td>\n",
              "      <td>No</td>\n",
              "      <td>No</td>\n",
              "      <td>No</td>\n",
              "      <td>No</td>\n",
              "      <td>No</td>\n",
              "      <td>No</td>\n",
              "      <td>No</td>\n",
              "      <td>0</td>\n",
              "    </tr>\n",
              "    <tr>\n",
              "      <th>3</th>\n",
              "      <td>Caucasian</td>\n",
              "      <td>Male</td>\n",
              "      <td>3</td>\n",
              "      <td>2</td>\n",
              "      <td>EXPIRED</td>\n",
              "      <td>ER</td>\n",
              "      <td>2</td>\n",
              "      <td>44</td>\n",
              "      <td>1</td>\n",
              "      <td>16</td>\n",
              "      <td>...</td>\n",
              "      <td>No</td>\n",
              "      <td>No</td>\n",
              "      <td>No</td>\n",
              "      <td>Up</td>\n",
              "      <td>No</td>\n",
              "      <td>No</td>\n",
              "      <td>No</td>\n",
              "      <td>No</td>\n",
              "      <td>No</td>\n",
              "      <td>0</td>\n",
              "    </tr>\n",
              "    <tr>\n",
              "      <th>4</th>\n",
              "      <td>Caucasian</td>\n",
              "      <td>Male</td>\n",
              "      <td>4</td>\n",
              "      <td>2</td>\n",
              "      <td>EXPIRED</td>\n",
              "      <td>ER</td>\n",
              "      <td>1</td>\n",
              "      <td>51</td>\n",
              "      <td>0</td>\n",
              "      <td>8</td>\n",
              "      <td>...</td>\n",
              "      <td>No</td>\n",
              "      <td>No</td>\n",
              "      <td>No</td>\n",
              "      <td>Steady</td>\n",
              "      <td>No</td>\n",
              "      <td>No</td>\n",
              "      <td>No</td>\n",
              "      <td>No</td>\n",
              "      <td>No</td>\n",
              "      <td>0</td>\n",
              "    </tr>\n",
              "    <tr>\n",
              "      <th>5</th>\n",
              "      <td>Caucasian</td>\n",
              "      <td>Male</td>\n",
              "      <td>5</td>\n",
              "      <td>3</td>\n",
              "      <td>EXPIRED</td>\n",
              "      <td>Referral</td>\n",
              "      <td>3</td>\n",
              "      <td>31</td>\n",
              "      <td>6</td>\n",
              "      <td>16</td>\n",
              "      <td>...</td>\n",
              "      <td>No</td>\n",
              "      <td>No</td>\n",
              "      <td>No</td>\n",
              "      <td>Steady</td>\n",
              "      <td>No</td>\n",
              "      <td>No</td>\n",
              "      <td>No</td>\n",
              "      <td>No</td>\n",
              "      <td>No</td>\n",
              "      <td>1</td>\n",
              "    </tr>\n",
              "  </tbody>\n",
              "</table>\n",
              "<p>5 rows × 43 columns</p>\n",
              "</div>\n",
              "      <button class=\"colab-df-convert\" onclick=\"convertToInteractive('df-a9ca07c8-183f-423e-985f-60db9978ad20')\"\n",
              "              title=\"Convert this dataframe to an interactive table.\"\n",
              "              style=\"display:none;\">\n",
              "        \n",
              "  <svg xmlns=\"http://www.w3.org/2000/svg\" height=\"24px\"viewBox=\"0 0 24 24\"\n",
              "       width=\"24px\">\n",
              "    <path d=\"M0 0h24v24H0V0z\" fill=\"none\"/>\n",
              "    <path d=\"M18.56 5.44l.94 2.06.94-2.06 2.06-.94-2.06-.94-.94-2.06-.94 2.06-2.06.94zm-11 1L8.5 8.5l.94-2.06 2.06-.94-2.06-.94L8.5 2.5l-.94 2.06-2.06.94zm10 10l.94 2.06.94-2.06 2.06-.94-2.06-.94-.94-2.06-.94 2.06-2.06.94z\"/><path d=\"M17.41 7.96l-1.37-1.37c-.4-.4-.92-.59-1.43-.59-.52 0-1.04.2-1.43.59L10.3 9.45l-7.72 7.72c-.78.78-.78 2.05 0 2.83L4 21.41c.39.39.9.59 1.41.59.51 0 1.02-.2 1.41-.59l7.78-7.78 2.81-2.81c.8-.78.8-2.07 0-2.86zM5.41 20L4 18.59l7.72-7.72 1.47 1.35L5.41 20z\"/>\n",
              "  </svg>\n",
              "      </button>\n",
              "      \n",
              "  <style>\n",
              "    .colab-df-container {\n",
              "      display:flex;\n",
              "      flex-wrap:wrap;\n",
              "      gap: 12px;\n",
              "    }\n",
              "\n",
              "    .colab-df-convert {\n",
              "      background-color: #E8F0FE;\n",
              "      border: none;\n",
              "      border-radius: 50%;\n",
              "      cursor: pointer;\n",
              "      display: none;\n",
              "      fill: #1967D2;\n",
              "      height: 32px;\n",
              "      padding: 0 0 0 0;\n",
              "      width: 32px;\n",
              "    }\n",
              "\n",
              "    .colab-df-convert:hover {\n",
              "      background-color: #E2EBFA;\n",
              "      box-shadow: 0px 1px 2px rgba(60, 64, 67, 0.3), 0px 1px 3px 1px rgba(60, 64, 67, 0.15);\n",
              "      fill: #174EA6;\n",
              "    }\n",
              "\n",
              "    [theme=dark] .colab-df-convert {\n",
              "      background-color: #3B4455;\n",
              "      fill: #D2E3FC;\n",
              "    }\n",
              "\n",
              "    [theme=dark] .colab-df-convert:hover {\n",
              "      background-color: #434B5C;\n",
              "      box-shadow: 0px 1px 3px 1px rgba(0, 0, 0, 0.15);\n",
              "      filter: drop-shadow(0px 1px 2px rgba(0, 0, 0, 0.3));\n",
              "      fill: #FFFFFF;\n",
              "    }\n",
              "  </style>\n",
              "\n",
              "      <script>\n",
              "        const buttonEl =\n",
              "          document.querySelector('#df-a9ca07c8-183f-423e-985f-60db9978ad20 button.colab-df-convert');\n",
              "        buttonEl.style.display =\n",
              "          google.colab.kernel.accessAllowed ? 'block' : 'none';\n",
              "\n",
              "        async function convertToInteractive(key) {\n",
              "          const element = document.querySelector('#df-a9ca07c8-183f-423e-985f-60db9978ad20');\n",
              "          const dataTable =\n",
              "            await google.colab.kernel.invokeFunction('convertToInteractive',\n",
              "                                                     [key], {});\n",
              "          if (!dataTable) return;\n",
              "\n",
              "          const docLinkHtml = 'Like what you see? Visit the ' +\n",
              "            '<a target=\"_blank\" href=https://colab.research.google.com/notebooks/data_table.ipynb>data table notebook</a>'\n",
              "            + ' to learn more about interactive tables.';\n",
              "          element.innerHTML = '';\n",
              "          dataTable['output_type'] = 'display_data';\n",
              "          await google.colab.output.renderOutput(dataTable, element);\n",
              "          const docLink = document.createElement('div');\n",
              "          docLink.innerHTML = docLinkHtml;\n",
              "          element.appendChild(docLink);\n",
              "        }\n",
              "      </script>\n",
              "    </div>\n",
              "  </div>\n",
              "  "
            ]
          },
          "metadata": {},
          "execution_count": 20
        }
      ]
    },
    {
      "cell_type": "markdown",
      "source": [
        "# Clustering"
      ],
      "metadata": {
        "id": "t-wX95lDDHwj"
      }
    },
    {
      "cell_type": "code",
      "source": [
        "column = []\n",
        "for i in df:\n",
        "  if i not in ['age', 'admission_id', 'time_in_hospital', 'num_lab_procedures', 'num_procedures', 'num_medications','number_outpatient','number_emergency','number_inpatient','number_diagnoses']:\n",
        "    column.append(i)"
      ],
      "metadata": {
        "id": "hOqQe4l5DKQG"
      },
      "execution_count": 21,
      "outputs": []
    },
    {
      "cell_type": "code",
      "source": [
        "from sklearn.preprocessing import LabelEncoder\n",
        "from sklearn.cluster import KMeans\n",
        "\n",
        "encoder = LabelEncoder()\n",
        "encode = {}\n",
        "for i in df:\n",
        "  if i in column:\n",
        "    encode[i] = encoder.fit_transform(df[i])\n",
        "    df[i] = encode[i]"
      ],
      "metadata": {
        "id": "rlHKioB6DPJC"
      },
      "execution_count": 22,
      "outputs": []
    },
    {
      "cell_type": "code",
      "source": [
        "feature_df = df[category['Demographic']]\n",
        "\n",
        "features = feature_df.iloc[:, 1:-1].values\n",
        "clusters = KMeans(n_clusters=8, random_state=0).fit(feature_df)\n",
        "center = clusters.cluster_centers_"
      ],
      "metadata": {
        "id": "l1Shek1ADQni"
      },
      "execution_count": 24,
      "outputs": []
    },
    {
      "cell_type": "markdown",
      "source": [
        "# Cluster Plotting"
      ],
      "metadata": {
        "id": "sz7y80rgDZx7"
      }
    },
    {
      "cell_type": "code",
      "source": [
        "from sklearn.decomposition import PCA\n",
        "\n",
        "pca = PCA()\n",
        "reduced_df = pca.fit_transform(feature_df)"
      ],
      "metadata": {
        "id": "JWeWe7tBDb-M"
      },
      "execution_count": 25,
      "outputs": []
    },
    {
      "cell_type": "code",
      "source": [
        "import matplotlib.pyplot as plt\n",
        "\n",
        "plt.scatter(reduced_df[:, 0], reduced_df[:, 1], c=clusters.labels_)\n",
        "plt.title(\"Clustering of the Patients\")\n",
        "plt.xlabel('PCA1')\n",
        "plt.ylabel('PCA2')\n",
        "plt.show()"
      ],
      "metadata": {
        "colab": {
          "base_uri": "https://localhost:8080/",
          "height": 295
        },
        "id": "ZKfo0TVtDizo",
        "outputId": "d3e44c7a-7e19-4ddd-e1d7-9277cecf9149"
      },
      "execution_count": 27,
      "outputs": [
        {
          "output_type": "display_data",
          "data": {
            "text/plain": [
              "<Figure size 432x288 with 1 Axes>"
            ],
            "image/png": "[encoded data removed]"
          },
          "metadata": {
            "needs_background": "light"
          }
        }
      ]
    }
  ]
}